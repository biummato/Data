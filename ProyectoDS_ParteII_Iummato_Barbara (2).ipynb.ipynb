{
 "cells": [
  {
   "cell_type": "markdown",
   "id": "3c89fcc1",
   "metadata": {},
   "source": [
    "## Estructurando un proyecto de DS - Parte II\n",
    "\n",
    "# Introducción (Parte I): \n",
    "El presente trabajo tiene como objetivo elaborar un modelo predictivo utilizando las herramientas de data science. Para ello seleccioné el dataset referido a la deserción bancaria, es decir, a la pérdida o desgaste de clientes bancarios. Dicho prámetri está representado por la variable \"Attrition_flag\" y el término “Attition” se refiere al fenómeno en el que los clientes dejan de hacer negocios con un banco o se cambian a otro banco. Esta información es una métrica fundamental para los bancos, ya que afecta directamente a su base de clientes y a sus ingresos. Es por eso que resulta de mucha utilidad entender las principales variables que permitan anticipar la deserción bancaria. El presente trabajo tiene el objetivo de desarrollar un modelo de predicción para anticipar el porcentaje de clientes que abandanan el servicio (variable target).\n",
    "\n",
    "El dataset elegido cuenta con 23 columnas con datos de: cliente, edad, estado del cliente (existente o “desgastado”), genero, nivel de educación, estado civil, categoría de ingresos, categoría de tarjeta de crédito, antigüedad, meses de inactividad, límite de crédito, límite disponible, total de transacciones, entre otras.\n",
    "\n",
    "Antes de comenzar a trabajar el dataset podemos suponer que las categorías antes mencionadas pueden tener dependencia entre sí. Es decir, podríamos indagar si existe relación entre la edad de los clientes y su decisión de abandonar el servicio. \n",
    "Antes de comenzar proponemos plantear los siguientes interrogantes para entender la relación entre nuestras variables. En función de los datos obtenidos podremos elaborar nuestro modelo predictivo. La interacción o dependencia de los features nos permitirá entrenar a nuestro modelo predictivo.\n",
    "\n",
    "# Preguntas e hipótesis (Parte II)\n",
    "Siendo una base con información de clientes bancarios y el detalle de los clientes que abandonan el servicio queremos armar un modelo que permita precedir las variables que determinan que un cliente abandone el servicio. Para ello analizaremos:\n",
    "¿En qué porcentaje los clientes abandonan el servicio?\n",
    "¿Hay relación entre la edad de los clientes y el abandono del servicio?\n",
    "¿Cómo se distribuye (%) los clientes que abandonan el servicio según el rango de sus ingresos informados?\n",
    "¿Existe correlación entre mi variable target (abandono de clientes) y el resto de las variables del presente dataset?\n",
    "¿Hay diferencias significativas en la distribución del límite crediticio entre los clientes y los que abandonan?\n",
    "¿Los clientes de mayor edad están abandonando más que los más jóvenes?\n",
    "\n",
    "A continuación realizaremos visualizaciones y tansformaciones de nuestras variables para avanzar en la elaboración de nuestro modelo de DS."
   ]
  },
  {
   "cell_type": "markdown",
   "id": "adb17e27",
   "metadata": {},
   "source": [
    "# Objetivo (Parte II): \n",
    "Nuestro objetivo es construir un modelo de predicción para clasificar si un cliente abandonará el servicio y la probabilidad de que un cliente abandone nuestro servicio bancario. \n",
    " \n",
    "\n",
    "# Contexto comercial (Parte II)\n",
    "Soy el responsable del área de Servicio al cliente de un importante banco comercial y este año me solictaron desarrollar estratégias de retención de clientes para reducir en un 5% la cantidad de clientes que abandonan el banco dentro de los próximos 12 meses. Mi banco se desarrolla dentro de un sistema con alta competencia y bajas barreras de salida para nuestros clientes. \n",
    "\n",
    "\n",
    "# Problema comercial  (Parte II)\n",
    "Sabemos que nuestros clientes reciben, al menos, 4 propuestas al año para cambiarse de banco por distintos beneficios. Sumado a la alta competencia, contamos con estadísticas que nos muestran que el 20% de nuestros clientes presenta al menos un reclamo durante su tiempo cómo cliente. Conocemos los principales motivos de queja y le damos seguimiento, sin embargo, no pudimos establecer el patrón entre los motivos de reclamo, la frecuencia y la deserción. Por lo tanto precisamos desarrollar un modelo que nos permita predecir el porcentaje de deserción. \n",
    "\n",
    "\n",
    "# Contexto analítico (Parte II)\n",
    "Para poder desarrollar el modelo se cuenta con la siguiente información:\n",
    "Base de datos con total de clientes de nuestro banco con el detalle de cada uno según: Edad, Sexo, Nivel educativo, estado civil, categoria de ingresos, categoria de tarjetade credito, antiguedad, años sin movimientos,límite de crédito, límite de reintegros, límite disponible, promedio de límite utilizado, entre otros.\n",
    "Features: Nuestra base tiene 10.127 registros y 23 variables. No tenemos valores vacíos pero tenemos 14%, 7% y 11% de valores 'desconocidos' en las variables \"nivel educativo\", \"estado civil\" y \"categoria de ingresos\" respectivamente. Considerando que los porcentajes son bajos y que los mismos se presentan en variables categoricas que el cliente no quiso brindar vamos a tratar el valor desconocido como una categoria más. Posiblemente este problema se mantenga en futuros clientes y asumir un valor para dichos valores puede afectar al modelo. Es por eso que preferimos no completar con inferencias.\n",
    "\n",
    "Variable Target: Binaria. Nuestra variable target será el parámetro de clientes que abandonan el servicio que en la base está representado por la columna \"Attrition_flag\".Indica un 1 si el cliente mantiene el servicio y 0 si decide abandonar el servicio.\n",
    "\n",
    "A continuación exploraremos los datos con las herramientas de la librería pandas.crosstab para obtener gráficos que relacionen nuestra variable target con el resto de las características. Luego analizaremos la dependencia entre la variable target y el resto de las variables. Dado que nuestra base tiene la mayoría de sus variables categoricas las transformaremos en variables en numéricas para poder establecer la correlación entre las variables y obtener conclusiones. Finalmente elaboraremos nuevas variables que nos permita alimentar nuestro modelo predictivo con mayor precisión.\n",
    "\n",
    "\n",
    "# EDA  (Parte II)\n",
    "A continuación se desarrolla distintos análisis exploratorio de los datos. "
   ]
  },
  {
   "cell_type": "code",
   "execution_count": 1,
   "id": "3b49f173",
   "metadata": {},
   "outputs": [],
   "source": [
    "import pandas as pd\n",
    "import numpy as np\n",
    "import matplotlib as mpl\n",
    "import matplotlib.pyplot as plt\n",
    "import seaborn as sns\n",
    "\n",
    "# Libreria para estimar regresión\n",
    "import statsmodels.formula.api as sm\n",
    "\n",
    "# Libreria para PCA\n",
    "from sklearn.decomposition import PCA\n",
    "from sklearn.preprocessing import StandardScaler"
   ]
  },
  {
   "cell_type": "code",
   "execution_count": 2,
   "id": "67a85193",
   "metadata": {},
   "outputs": [
    {
     "name": "stderr",
     "output_type": "stream",
     "text": [
      "Downloading...\n",
      "From: https://drive.google.com/uc?id=1q-d4ynkoY0ryNcDBd7ABuO3kc1wSaRzU\n",
      "To: C:\\Users\\HP\\Downloads\\BankChurners.csv\n",
      "100%|█████████████████████████████████████████████████████████████████████████████| 1.51M/1.51M [00:00<00:00, 4.53MB/s]"
     ]
    },
    {
     "name": "stdout",
     "output_type": "stream",
     "text": [
      "   CLIENTNUM     Attrition_Flag  Customer_Age Gender  Dependent_count  \\\n",
      "0  768805383  Existing Customer            45      M                3   \n",
      "1  818770008  Existing Customer            49      F                5   \n",
      "\n",
      "  Education_Level Marital_Status Income_Category Card_Category  \\\n",
      "0     High School        Married     $60K - $80K          Blue   \n",
      "1        Graduate         Single  Less than $40K          Blue   \n",
      "\n",
      "   Months_on_book  ...  Credit_Limit  Total_Revolving_Bal  Avg_Open_To_Buy  \\\n",
      "0              39  ...       12691.0                  777          11914.0   \n",
      "1              44  ...        8256.0                  864           7392.0   \n",
      "\n",
      "   Total_Amt_Chng_Q4_Q1  Total_Trans_Amt  Total_Trans_Ct  Total_Ct_Chng_Q4_Q1  \\\n",
      "0                 1.335             1144              42                1.625   \n",
      "1                 1.541             1291              33                3.714   \n",
      "\n",
      "   Avg_Utilization_Ratio  \\\n",
      "0                  0.061   \n",
      "1                  0.105   \n",
      "\n",
      "   Naive_Bayes_Classifier_Attrition_Flag_Card_Category_Contacts_Count_12_mon_Dependent_count_Education_Level_Months_Inactive_12_mon_1  \\\n",
      "0                                           0.000093                                                                                    \n",
      "1                                           0.000057                                                                                    \n",
      "\n",
      "   Naive_Bayes_Classifier_Attrition_Flag_Card_Category_Contacts_Count_12_mon_Dependent_count_Education_Level_Months_Inactive_12_mon_2  \n",
      "0                                            0.99991                                                                                   \n",
      "1                                            0.99994                                                                                   \n",
      "\n",
      "[2 rows x 23 columns]\n"
     ]
    },
    {
     "name": "stderr",
     "output_type": "stream",
     "text": [
      "\n"
     ]
    }
   ],
   "source": [
    "import gdown\n",
    "import pandas as pd\n",
    "\n",
    "url = 'https://drive.google.com/uc?id=1q-d4ynkoY0ryNcDBd7ABuO3kc1wSaRzU'\n",
    "# Nombre del archivo local donde se descargará el CSV\n",
    "Dataset_bankChurners = 'BankChurners.csv'\n",
    "\n",
    "# Descarga del archivo CSV desde Google Drive\n",
    "gdown.download(url, Dataset_bankChurners, quiet=False)\n",
    "\n",
    "# Carga del archivo CSV en un DataFrame de pandas\n",
    "df = pd.read_csv(Dataset_bankChurners)\n",
    "\n",
    "# Muestra las primeras filas del DataFrame para verificar\n",
    "print(df.head(2))"
   ]
  },
  {
   "cell_type": "code",
   "execution_count": 3,
   "id": "6d38b214",
   "metadata": {},
   "outputs": [
    {
     "data": {
      "image/png": "[encoded data removed]",
      "text/plain": [
       "<Figure size 432x288 with 1 Axes>"
      ]
     },
     "metadata": {
      "needs_background": "light"
     },
     "output_type": "display_data"
    }
   ],
   "source": [
    "# Grafico univariado de total de clientes según si abandonaron el servicio\"\n",
    "\n",
    "plt.figure()\n",
    "ax = sns.countplot(data=df, x='Attrition_Flag')\n",
    "\n",
    "# Agregar etiquetas y título\n",
    "plt.xlabel('Attrition Flag')\n",
    "plt.ylabel('Recuento')\n",
    "plt.title('Recuento de Attritión Flag')\n",
    "\n",
    "# Agregar etiquetas con los valores de cada columna\n",
    "for p in ax.patches:\n",
    "    height = p.get_height()\n",
    "    ax.annotate(f'{int(height)}', (p.get_x() + p.get_width() / 2., height), ha='center', va='baseline')\n",
    "\n",
    "# Mostrar el gráfico\n",
    "plt.show()"
   ]
  },
  {
   "cell_type": "markdown",
   "id": "ad589f3b",
   "metadata": {},
   "source": [
    "Interpretación: Analizando la variable target (Attrition_Flag) en el gráfico univariado podemos inferir que la probabilidad de que un cliente nuevo abandone el servicio estará en el orden del 16% (1.627/10.127). Dado que este % es pequeño podemos inferir que el modelo elegido debería precedir una deserción cercana a este número. Nuestro interés como banco es que dicho porcentaje no aumente y desarrollar estrategias para que ese porcentaje, luego de aplicar nuestras estratégias, se reduzca al menos en 5 puntos."
   ]
  },
  {
   "cell_type": "code",
   "execution_count": 4,
   "id": "e532399c",
   "metadata": {},
   "outputs": [
    {
     "data": {
      "image/png": "[encoded data removed]",
      "text/plain": [
       "<Figure size 432x288 with 1 Axes>"
      ]
     },
     "metadata": {
      "needs_background": "light"
     },
     "output_type": "display_data"
    }
   ],
   "source": [
    "# Grafico bivariado de \"Rango de edad y abandono del servicio\"\n",
    "\n",
    "df['Customer_Age_period'] = pd.cut(np.array(df['Customer_Age']), \n",
    "                                              bins=int(df.Customer_Age.std()),\n",
    "                                              precision=0)\n",
    "\n",
    "ax = sns.countplot(x=\"Customer_Age_period\", hue='Attrition_Flag', data=df, palette=\"winter\")\n",
    "ax.set_xticklabels(ax.get_xticklabels(), rotation=40, ha=\"right\")\n",
    "plt.tight_layout()\n",
    "\n",
    "\n",
    "# Agregar etiquetas de valores en el gráfico\n",
    "for p in ax.patches:\n",
    "    height = p.get_height()\n",
    "    ax.annotate(f'{height}', (p.get_x() + p.get_width() / 2., height), ha='center', va='baseline')\n",
    "\n",
    "plt.title('Relación entre rango de edad y abandono del servicio')\n",
    "plt.show()"
   ]
  },
  {
   "cell_type": "markdown",
   "id": "be069d56",
   "metadata": {},
   "source": [
    "Interpretación: vemos una relación entre el rango etario y el abando del servicio. Se mantiene cierta proporcionalidad para cada rango etário. Con la presente información podemos alimentar nuestro modelo predictivo incluyendo los porcentajes en los cuáles los clientes abandonan el servicio para cada rango etáreo."
   ]
  },
  {
   "cell_type": "code",
   "execution_count": 39,
   "id": "da4d169c",
   "metadata": {},
   "outputs": [
    {
     "data": {
      "text/html": [
       "<div>\n",
       "<style scoped>\n",
       "    .dataframe tbody tr th:only-of-type {\n",
       "        vertical-align: middle;\n",
       "    }\n",
       "\n",
       "    .dataframe tbody tr th {\n",
       "        vertical-align: top;\n",
       "    }\n",
       "\n",
       "    .dataframe thead th {\n",
       "        text-align: right;\n",
       "    }\n",
       "</style>\n",
       "<table border=\"1\" class=\"dataframe\">\n",
       "  <thead>\n",
       "    <tr style=\"text-align: right;\">\n",
       "      <th>Attrition_Flag</th>\n",
       "      <th>0</th>\n",
       "      <th>1</th>\n",
       "    </tr>\n",
       "    <tr>\n",
       "      <th>Gender</th>\n",
       "      <th></th>\n",
       "      <th></th>\n",
       "    </tr>\n",
       "  </thead>\n",
       "  <tbody>\n",
       "    <tr>\n",
       "      <th>F</th>\n",
       "      <td>0.173572</td>\n",
       "      <td>0.826428</td>\n",
       "    </tr>\n",
       "    <tr>\n",
       "      <th>M</th>\n",
       "      <td>0.146152</td>\n",
       "      <td>0.853848</td>\n",
       "    </tr>\n",
       "    <tr>\n",
       "      <th>% row</th>\n",
       "      <td>0.160660</td>\n",
       "      <td>0.839340</td>\n",
       "    </tr>\n",
       "  </tbody>\n",
       "</table>\n",
       "</div>"
      ],
      "text/plain": [
       "Attrition_Flag         0         1\n",
       "Gender                            \n",
       "F               0.173572  0.826428\n",
       "M               0.146152  0.853848\n",
       "% row           0.160660  0.839340"
      ]
     },
     "metadata": {},
     "output_type": "display_data"
    }
   ],
   "source": [
    "# Ahora analizamos la probabilidad de que un cliente abandone el servicio según su género\n",
    "\n",
    "cross = pd.crosstab(df['Gender'], \n",
    "            df['Attrition_Flag'], \n",
    "            margins = True, \n",
    "            margins_name = \"% row\", \n",
    "            normalize='index')\n",
    "display(cross)"
   ]
  },
  {
   "cell_type": "markdown",
   "id": "6e95c9b5",
   "metadata": {},
   "source": [
    "Interpretación: A partir del presente cuadro podemos asumir que si el banco adquiere un nueve cliente masculino las probabilidades que abandone seran de 14% mientras que si es femenino las probabilidades ascienden a 17%. Este análisis permitirá especificar a nuestro modelo una probabilidad condicional respecto al genero y nuestra variable target."
   ]
  },
  {
   "cell_type": "code",
   "execution_count": 28,
   "id": "8d7a05e3",
   "metadata": {},
   "outputs": [],
   "source": [
    "# ahora vamos a analizar si la edad está correlacionado con el hecho de que un cliente abandone el servicio. \n",
    "# Para ello vamos a agrupar las edades en rangos según su distribución estándar.\n",
    "df['Customer_Age_period'] = pd.cut(np.array(df['Customer_Age']), \n",
    "                                              bins=int(df.Customer_Age.std()),\n",
    "                                              precision=0)"
   ]
  },
  {
   "cell_type": "code",
   "execution_count": 29,
   "id": "4b33612c",
   "metadata": {},
   "outputs": [
    {
     "data": {
      "image/png": "[encoded data removed]",
      "text/plain": [
       "<Figure size 432x288 with 1 Axes>"
      ]
     },
     "metadata": {
      "needs_background": "light"
     },
     "output_type": "display_data"
    }
   ],
   "source": [
    "ax = sns.countplot(x=\"Customer_Age_period\", data=df)\n",
    "ax.set_xticklabels(ax.get_xticklabels(), rotation=40, ha=\"right\")\n",
    "plt.tight_layout()"
   ]
  },
  {
   "cell_type": "code",
   "execution_count": null,
   "id": "4c1e47bd",
   "metadata": {},
   "outputs": [],
   "source": []
  },
  {
   "cell_type": "code",
   "execution_count": 30,
   "id": "db8ebe7d",
   "metadata": {},
   "outputs": [
    {
     "data": {
      "text/html": [
       "<div>\n",
       "<style scoped>\n",
       "    .dataframe tbody tr th:only-of-type {\n",
       "        vertical-align: middle;\n",
       "    }\n",
       "\n",
       "    .dataframe tbody tr th {\n",
       "        vertical-align: top;\n",
       "    }\n",
       "\n",
       "    .dataframe thead th {\n",
       "        text-align: right;\n",
       "    }\n",
       "</style>\n",
       "<table border=\"1\" class=\"dataframe\">\n",
       "  <thead>\n",
       "    <tr style=\"text-align: right;\">\n",
       "      <th>Attrition_Flag</th>\n",
       "      <th>Attrited Customer</th>\n",
       "      <th>Existing Customer</th>\n",
       "    </tr>\n",
       "    <tr>\n",
       "      <th>Customer_Age_period</th>\n",
       "      <th></th>\n",
       "      <th></th>\n",
       "    </tr>\n",
       "  </thead>\n",
       "  <tbody>\n",
       "    <tr>\n",
       "      <th>(26.0, 32.0]</th>\n",
       "      <td>0.126404</td>\n",
       "      <td>0.873596</td>\n",
       "    </tr>\n",
       "    <tr>\n",
       "      <th>(32.0, 38.0]</th>\n",
       "      <td>0.132184</td>\n",
       "      <td>0.867816</td>\n",
       "    </tr>\n",
       "    <tr>\n",
       "      <th>(38.0, 44.0]</th>\n",
       "      <td>0.167912</td>\n",
       "      <td>0.832088</td>\n",
       "    </tr>\n",
       "    <tr>\n",
       "      <th>(44.0, 50.0]</th>\n",
       "      <td>0.165982</td>\n",
       "      <td>0.834018</td>\n",
       "    </tr>\n",
       "    <tr>\n",
       "      <th>(50.0, 55.0]</th>\n",
       "      <td>0.166439</td>\n",
       "      <td>0.833561</td>\n",
       "    </tr>\n",
       "    <tr>\n",
       "      <th>(55.0, 61.0]</th>\n",
       "      <td>0.166830</td>\n",
       "      <td>0.833170</td>\n",
       "    </tr>\n",
       "    <tr>\n",
       "      <th>(61.0, 67.0]</th>\n",
       "      <td>0.129870</td>\n",
       "      <td>0.870130</td>\n",
       "    </tr>\n",
       "    <tr>\n",
       "      <th>(67.0, 73.0]</th>\n",
       "      <td>0.250000</td>\n",
       "      <td>0.750000</td>\n",
       "    </tr>\n",
       "    <tr>\n",
       "      <th>% row</th>\n",
       "      <td>0.160660</td>\n",
       "      <td>0.839340</td>\n",
       "    </tr>\n",
       "  </tbody>\n",
       "</table>\n",
       "</div>"
      ],
      "text/plain": [
       "Attrition_Flag       Attrited Customer  Existing Customer\n",
       "Customer_Age_period                                      \n",
       "(26.0, 32.0]                  0.126404           0.873596\n",
       "(32.0, 38.0]                  0.132184           0.867816\n",
       "(38.0, 44.0]                  0.167912           0.832088\n",
       "(44.0, 50.0]                  0.165982           0.834018\n",
       "(50.0, 55.0]                  0.166439           0.833561\n",
       "(55.0, 61.0]                  0.166830           0.833170\n",
       "(61.0, 67.0]                  0.129870           0.870130\n",
       "(67.0, 73.0]                  0.250000           0.750000\n",
       "% row                         0.160660           0.839340"
      ]
     },
     "metadata": {},
     "output_type": "display_data"
    }
   ],
   "source": [
    "# Ahora analizamos la probabilidad de que un cliente abandone el servicio según su género\n",
    "\n",
    "cross = pd.crosstab(df['Customer_Age_period'], \n",
    "            df['Attrition_Flag'], \n",
    "            margins = True, \n",
    "            margins_name = \"% row\", \n",
    "            normalize='index')\n",
    "display(cross)"
   ]
  },
  {
   "cell_type": "code",
   "execution_count": 69,
   "id": "04073705",
   "metadata": {},
   "outputs": [],
   "source": [
    "#Antes que nada mi variable target y otros atributos nominales en ordinales para poder trabajar su dependencia. \n",
    "from sklearn.preprocessing import LabelEncoder\n",
    "\n",
    "# Crear un objeto LabelEncoder\n",
    "label_encoder = LabelEncoder()\n",
    "# Ajustar y transformar la variable categórica en numéricas\n",
    "df['Attrition_Flag'] = label_encoder.fit_transform(df['Attrition_Flag'])"
   ]
  },
  {
   "cell_type": "code",
   "execution_count": 70,
   "id": "7f995744",
   "metadata": {},
   "outputs": [
    {
     "name": "stdout",
     "output_type": "stream",
     "text": [
      "Information Value (IV) = 6.339551493935651\n"
     ]
    }
   ],
   "source": [
    "# Supongamos que tienes un DataFrame llamado df con las columnas \"Variable\" y \"Target\"\n",
    "# Primero, agrupa los datos y calcula las tasas de eventos y no eventos\n",
    "df['Variable_Bins'] = pd.cut(df['Customer_Age'], bins=5)  # Divide en 5 bins (ajusta según tus necesidades)\n",
    "grouped = df.groupby('Variable_Bins')\n",
    "event_rate = grouped['Attrition_Flag'].mean()\n",
    "non_event_rate = 1 - event_rate\n",
    "\n",
    "# Calcula el WOE\n",
    "WOE = np.log(event_rate / non_event_rate)\n",
    "\n",
    "# Calcula el IV\n",
    "IV = np.sum((WOE * (event_rate - non_event_rate)))\n",
    "\n",
    "print(\"Information Value (IV) =\", IV)\n"
   ]
  },
  {
   "cell_type": "markdown",
   "id": "24b7448f",
   "metadata": {},
   "source": [
    "El valor de IV de 6.339551493935651 es relativamente alto, lo que sugiere que la variable de Edad es muy informativa y desempeña un papel importante en la predicción del resultado. Esto es una señal positiva, ya que una variable con alto IV es valiosa para la construcción de modelos predictivos."
   ]
  },
  {
   "cell_type": "code",
   "execution_count": 71,
   "id": "13ac3ce2",
   "metadata": {},
   "outputs": [],
   "source": [
    "df['Card_Category'] = label_encoder.fit_transform(df['Card_Category'])"
   ]
  },
  {
   "cell_type": "code",
   "execution_count": 72,
   "id": "142f3bed",
   "metadata": {},
   "outputs": [
    {
     "name": "stdout",
     "output_type": "stream",
     "text": [
      "Information Value (IV) = 3.8661466265649267\n"
     ]
    }
   ],
   "source": [
    "# Supongamos que tienes un DataFrame llamado df con las columnas \"Variable\" y \"Target\"\n",
    "# Primero, agrupa los datos y calcula las tasas de eventos y no eventos\n",
    "df['Variable_Bins'] = pd.cut(df['Card_Category'], bins=5)  # Divide en 5 bins (ajusta según tus necesidades)\n",
    "grouped = df.groupby('Variable_Bins')\n",
    "event_rate = grouped['Attrition_Flag'].mean()\n",
    "non_event_rate = 1 - event_rate\n",
    "\n",
    "# Calcula el WOE\n",
    "WOE = np.log(event_rate / non_event_rate)\n",
    "\n",
    "# Calcula el IV\n",
    "IV = np.sum((WOE * (event_rate - non_event_rate)))\n",
    "\n",
    "print(\"Information Value (IV) =\", IV)"
   ]
  },
  {
   "cell_type": "code",
   "execution_count": 37,
   "id": "dcafcf44",
   "metadata": {},
   "outputs": [
    {
     "data": {
      "image/png": "[encoded data removed]",
      "text/plain": [
       "<Figure size 448.075x288 with 2 Axes>"
      ]
     },
     "metadata": {
      "needs_background": "light"
     },
     "output_type": "display_data"
    }
   ],
   "source": [
    "sns.catplot(x=\"Card_Category\", hue=\"Gender\", col=\"Attrition_Flag\",\n",
    "                data=df, kind=\"count\",\n",
    "                height=4, aspect=.7);"
   ]
  },
  {
   "cell_type": "markdown",
   "id": "b2564084",
   "metadata": {},
   "source": [
    "Interpretación: similar al cuadro anterior en el presente gráfico vemos que los clientes que abandonan el servicio (Attrition_flag=0) mantienen una relación según el tipo de tarjeta similar a los clientes que mantienen el servicio. Para definir nuestro modelo podríamos obtener los % de cada combinación."
   ]
  },
  {
   "cell_type": "code",
   "execution_count": 8,
   "id": "130a58c3",
   "metadata": {},
   "outputs": [],
   "source": [
    "# A continuación realizaremos gráfico multivariado. Antes de realizar un cuadro de correlación elimino las columnas que no aportan valor a la visualización\n",
    "df = df.iloc[:, 1:-3]\n",
    "#elimino las columnas que no aportan valor a mi siguiente cuadro de correlación"
   ]
  },
  {
   "cell_type": "code",
   "execution_count": 38,
   "id": "f540360f",
   "metadata": {},
   "outputs": [
    {
     "data": {
      "text/plain": [
       "<AxesSubplot:>"
      ]
     },
     "execution_count": 38,
     "metadata": {},
     "output_type": "execute_result"
    },
    {
     "data": {
      "image/png": "[encoded data removed]",
      "text/plain": [
       "<Figure size 432x288 with 2 Axes>"
      ]
     },
     "metadata": {
      "needs_background": "light"
     },
     "output_type": "display_data"
    }
   ],
   "source": [
    "# Matriz de correlación de todos las variables\n",
    "\n",
    "corr_matrix = df.corr()\n",
    "sns.heatmap(corr_matrix, cmap=\"coolwarm\")"
   ]
  },
  {
   "cell_type": "markdown",
   "id": "990dc49c",
   "metadata": {},
   "source": [
    "Interpretación: realizamos este gráfico de correlación para evidenciar las dependencias de las variables de nuestro dataset. Vemos que Credit limit está correlacionado con Average open to Buy y Month on book está correlacionado con Customer Age. Ese gráfico nos da elementos para entrenar a nuestro futuro modelo de DS. Sin embargo nuestra variable target (Attrition_Flag) no muestra -con este método - dependencia fuerte con otras variables."
   ]
  },
  {
   "cell_type": "code",
   "execution_count": 73,
   "id": "c59627c3",
   "metadata": {},
   "outputs": [
    {
     "name": "stdout",
     "output_type": "stream",
     "text": [
      "Valor de chi-cuadrado: 396.45619934093764\n",
      "Valor p: 1.6155198022595323e-82\n",
      "Grados de libertad: 6\n",
      "Valores esperados:\n",
      "[[   4.65912906  358.75293769  527.284882    617.89690925   69.88693591\n",
      "    28.59741286   19.92179323]\n",
      " [  24.34087094 1874.24706231 2754.715118   3228.10309075  365.11306409\n",
      "   149.40258714  104.07820677]]\n"
     ]
    }
   ],
   "source": [
    "import pandas as pd\n",
    "from scipy.stats import chi2_contingency\n",
    "\n",
    "# A continuación podemos ver la correlación entre Attrition flag y la cantidad de años de falta de actividad\n",
    "# Selecciona las columnas de interés\n",
    "data = df[['Attrition_Flag', 'Months_Inactive_12_mon']]\n",
    "\n",
    "# Realiza una tabla de contingencia entre las dos columnas\n",
    "tabla_contingencia = pd.crosstab(data['Attrition_Flag'], data['Months_Inactive_12_mon'])\n",
    "\n",
    "# Realiza la prueba de chi-cuadrado\n",
    "chi2, p, dof, expected = chi2_contingency(tabla_contingencia)\n",
    "\n",
    "# Imprime el resultado\n",
    "print(f\"Valor de chi-cuadrado: {chi2}\")\n",
    "print(f\"Valor p: {p}\")\n",
    "print(f\"Grados de libertad: {dof}\")\n",
    "print(\"Valores esperados:\")\n",
    "print(expected)"
   ]
  },
  {
   "cell_type": "markdown",
   "id": "a46b455b",
   "metadata": {},
   "source": [
    "Interpretación: Dado que el valor de chi-cuadrado es de 396.45619934093764 y es bastante grande, lo que sugiere que hay una relación significativa entre las variable de meses de inactividad y el parametro que indica que el cliente abandona el servicio.\n",
    "\n",
    "Valor p: 1.6155198022595323e-82 : El valor p es extremadamente pequeño (cercano a cero). Esto indica que la probabilidad de que la asociación observada entre las dos variables sea el resultado del azar es casi nula. En otras palabras, hay evidencia sólida para rechazar la hipótesis nula de independencia y concluir que hay una asociación significativa entre el abandono de clientes y los meses de inactividad."
   ]
  },
  {
   "cell_type": "code",
   "execution_count": null,
   "id": "7e6516d5",
   "metadata": {},
   "outputs": [],
   "source": []
  },
  {
   "cell_type": "code",
   "execution_count": null,
   "id": "edd9dff4",
   "metadata": {},
   "outputs": [],
   "source": []
  },
  {
   "cell_type": "code",
   "execution_count": null,
   "id": "bec61ee3",
   "metadata": {},
   "outputs": [],
   "source": []
  },
  {
   "cell_type": "code",
   "execution_count": null,
   "id": "83bf1bc1",
   "metadata": {},
   "outputs": [],
   "source": []
  },
  {
   "cell_type": "code",
   "execution_count": null,
   "id": "0517d099",
   "metadata": {},
   "outputs": [],
   "source": []
  },
  {
   "cell_type": "code",
   "execution_count": null,
   "id": "2dfd442b",
   "metadata": {},
   "outputs": [],
   "source": []
  },
  {
   "cell_type": "code",
   "execution_count": null,
   "id": "d177de10",
   "metadata": {},
   "outputs": [],
   "source": []
  },
  {
   "cell_type": "code",
   "execution_count": null,
   "id": "3006445b",
   "metadata": {},
   "outputs": [],
   "source": []
  },
  {
   "cell_type": "code",
   "execution_count": 85,
   "id": "bd49e40c",
   "metadata": {},
   "outputs": [],
   "source": [
    "# Primer paso: definir el nombre de la función y sus parámetros\n",
    "def calculadora_IV(lista_variables,target):\n",
    "    \"\"\"\n",
    "    Esta función calcula el IV de una lista de variables categóricas vs un flag binario.\n",
    "\n",
    "    Args:\n",
    "        lista_variables: Lista que incluya el nombre de cada variable a la que se le quiere calcular el IV.\n",
    "        target: Nombre de la columna que contiene a la variable target.\n",
    "\n",
    "    Returns:\n",
    "        Dataframe con dos columnas: Variable (nombre de la variable) e IV (Information Value).\n",
    "    \"\"\"\n",
    "    \n",
    "    # Calculo la cantidad de variables que se van a recorrer\n",
    "    cantidad_variables = len(lista_variables)\n",
    "    \n",
    "    # Genero el dataframe que se entregará al final, vacío\n",
    "    IV_df = pd.DataFrame(columns=['Variable', 'IV'])        \n",
    "    \n",
    "    # Genero un loop que recorre cada elemento de la lista de nombres de variables que se quiere generar el cálculo\n",
    "    for i in range(cantidad_variables):\n",
    "    \n",
    "        # Calculo tablita agrupada por cada variable\n",
    "        tabla_IV = df.groupby(lista_variables[i]).agg(      \n",
    "            Cant = (target, 'count'),\n",
    "            Cant_Exito = (target, 'sum'),    \n",
    "            Tasa_Exito = (target, 'mean')\n",
    "        ).reset_index()\n",
    "        \n",
    "        # Agrego la \"Tasa de No Exito\"\n",
    "        tabla_IV['Tasa_No_Exito'] = 1 - tabla_IV['Tasa_Exito']\n",
    "        \n",
    "        # Agrego la \"Cantidad de casos de No Exito\"\n",
    "        tabla_IV['Cant_No_Exito'] = tabla_IV['Cant'] - tabla_IV['Cant_Exito']\n",
    "        \n",
    "        # Hago cálculos necesarios para llegar al IV\n",
    "        tabla_IV['LN'] = np.log(tabla_IV['Tasa_Exito'] / tabla_IV['Tasa_No_Exito'])\n",
    "        tabla_IV['Pct_Exitos'] = tabla_IV['Cant_Exito'] / sum(tabla_IV['Cant_Exito'])\n",
    "        tabla_IV['Pct_NoExitos'] = tabla_IV['Cant_No_Exito'] / sum(tabla_IV['Cant_No_Exito'])\n",
    "        tabla_IV['Resta'] = tabla_IV['Pct_Exitos'] - tabla_IV['Pct_NoExitos']\n",
    "        tabla_IV['IV'] = tabla_IV['Resta'] * tabla_IV['LN'] \n",
    "        \n",
    "        # Agrego el IV como un registro más en la tabla que generé\n",
    "        nuevo_dato = {'Variable': lista_variables[i], 'IV': sum(tabla_IV['IV'])}\n",
    "        IV_df = IV_df.append(nuevo_dato, ignore_index=True)\n",
    "\n",
    "    return IV_df"
   ]
  },
  {
   "cell_type": "code",
   "execution_count": 87,
   "id": "c1261352",
   "metadata": {},
   "outputs": [
    {
     "name": "stdout",
     "output_type": "stream",
     "text": [
      "Help on function calculadora_IV in module __main__:\n",
      "\n",
      "calculadora_IV(lista_variables, target)\n",
      "    Esta función calcula el IV de una lista de variables categóricas vs un flag binario.\n",
      "    \n",
      "    Args:\n",
      "        lista_variables: Lista que incluya el nombre de cada variable a la que se le quiere calcular el IV.\n",
      "        target: Nombre de la columna que contiene a la variable target.\n",
      "    \n",
      "    Returns:\n",
      "        Dataframe con dos columnas: Variable (nombre de la variable) e IV (Information Value).\n",
      "\n"
     ]
    }
   ],
   "source": [
    "help(calculadora_IV)"
   ]
  },
  {
   "cell_type": "code",
   "execution_count": 90,
   "id": "c36a9688",
   "metadata": {},
   "outputs": [
    {
     "name": "stderr",
     "output_type": "stream",
     "text": [
      "C:\\Users\\HP\\AppData\\Local\\Temp\\ipykernel_15968\\362610380.py:45: FutureWarning: The frame.append method is deprecated and will be removed from pandas in a future version. Use pandas.concat instead.\n",
      "  IV_df = IV_df.append(nuevo_dato, ignore_index=True)\n",
      "C:\\Users\\HP\\AppData\\Local\\Temp\\ipykernel_15968\\362610380.py:45: FutureWarning: The frame.append method is deprecated and will be removed from pandas in a future version. Use pandas.concat instead.\n",
      "  IV_df = IV_df.append(nuevo_dato, ignore_index=True)\n",
      "C:\\Users\\HP\\AppData\\Local\\Temp\\ipykernel_15968\\362610380.py:45: FutureWarning: The frame.append method is deprecated and will be removed from pandas in a future version. Use pandas.concat instead.\n",
      "  IV_df = IV_df.append(nuevo_dato, ignore_index=True)\n",
      "C:\\Users\\HP\\AppData\\Local\\Temp\\ipykernel_15968\\362610380.py:45: FutureWarning: The frame.append method is deprecated and will be removed from pandas in a future version. Use pandas.concat instead.\n",
      "  IV_df = IV_df.append(nuevo_dato, ignore_index=True)\n",
      "C:\\Users\\HP\\AppData\\Local\\Temp\\ipykernel_15968\\362610380.py:45: FutureWarning: The frame.append method is deprecated and will be removed from pandas in a future version. Use pandas.concat instead.\n",
      "  IV_df = IV_df.append(nuevo_dato, ignore_index=True)\n",
      "C:\\Users\\HP\\AppData\\Local\\Temp\\ipykernel_15968\\362610380.py:45: FutureWarning: The frame.append method is deprecated and will be removed from pandas in a future version. Use pandas.concat instead.\n",
      "  IV_df = IV_df.append(nuevo_dato, ignore_index=True)\n",
      "C:\\Users\\HP\\anaconda3\\lib\\site-packages\\pandas\\core\\arraylike.py:397: RuntimeWarning: divide by zero encountered in log\n",
      "  result = getattr(ufunc, method)(*inputs, **kwargs)\n",
      "C:\\Users\\HP\\AppData\\Local\\Temp\\ipykernel_15968\\362610380.py:45: FutureWarning: The frame.append method is deprecated and will be removed from pandas in a future version. Use pandas.concat instead.\n",
      "  IV_df = IV_df.append(nuevo_dato, ignore_index=True)\n",
      "C:\\Users\\HP\\anaconda3\\lib\\site-packages\\pandas\\core\\arraylike.py:397: RuntimeWarning: divide by zero encountered in log\n",
      "  result = getattr(ufunc, method)(*inputs, **kwargs)\n",
      "C:\\Users\\HP\\AppData\\Local\\Temp\\ipykernel_15968\\362610380.py:45: FutureWarning: The frame.append method is deprecated and will be removed from pandas in a future version. Use pandas.concat instead.\n",
      "  IV_df = IV_df.append(nuevo_dato, ignore_index=True)\n",
      "C:\\Users\\HP\\anaconda3\\lib\\site-packages\\pandas\\core\\arraylike.py:397: RuntimeWarning: divide by zero encountered in log\n",
      "  result = getattr(ufunc, method)(*inputs, **kwargs)\n",
      "C:\\Users\\HP\\AppData\\Local\\Temp\\ipykernel_15968\\362610380.py:45: FutureWarning: The frame.append method is deprecated and will be removed from pandas in a future version. Use pandas.concat instead.\n",
      "  IV_df = IV_df.append(nuevo_dato, ignore_index=True)\n",
      "C:\\Users\\HP\\anaconda3\\lib\\site-packages\\pandas\\core\\arraylike.py:397: RuntimeWarning: divide by zero encountered in log\n",
      "  result = getattr(ufunc, method)(*inputs, **kwargs)\n",
      "C:\\Users\\HP\\AppData\\Local\\Temp\\ipykernel_15968\\362610380.py:45: FutureWarning: The frame.append method is deprecated and will be removed from pandas in a future version. Use pandas.concat instead.\n",
      "  IV_df = IV_df.append(nuevo_dato, ignore_index=True)\n",
      "C:\\Users\\HP\\anaconda3\\lib\\site-packages\\pandas\\core\\arraylike.py:397: RuntimeWarning: divide by zero encountered in log\n",
      "  result = getattr(ufunc, method)(*inputs, **kwargs)\n",
      "C:\\Users\\HP\\AppData\\Local\\Temp\\ipykernel_15968\\362610380.py:45: FutureWarning: The frame.append method is deprecated and will be removed from pandas in a future version. Use pandas.concat instead.\n",
      "  IV_df = IV_df.append(nuevo_dato, ignore_index=True)\n",
      "C:\\Users\\HP\\anaconda3\\lib\\site-packages\\pandas\\core\\arraylike.py:397: RuntimeWarning: divide by zero encountered in log\n",
      "  result = getattr(ufunc, method)(*inputs, **kwargs)\n",
      "C:\\Users\\HP\\AppData\\Local\\Temp\\ipykernel_15968\\362610380.py:45: FutureWarning: The frame.append method is deprecated and will be removed from pandas in a future version. Use pandas.concat instead.\n",
      "  IV_df = IV_df.append(nuevo_dato, ignore_index=True)\n",
      "C:\\Users\\HP\\anaconda3\\lib\\site-packages\\pandas\\core\\arraylike.py:397: RuntimeWarning: divide by zero encountered in log\n",
      "  result = getattr(ufunc, method)(*inputs, **kwargs)\n",
      "C:\\Users\\HP\\AppData\\Local\\Temp\\ipykernel_15968\\362610380.py:45: FutureWarning: The frame.append method is deprecated and will be removed from pandas in a future version. Use pandas.concat instead.\n",
      "  IV_df = IV_df.append(nuevo_dato, ignore_index=True)\n",
      "C:\\Users\\HP\\anaconda3\\lib\\site-packages\\pandas\\core\\arraylike.py:397: RuntimeWarning: divide by zero encountered in log\n",
      "  result = getattr(ufunc, method)(*inputs, **kwargs)\n",
      "C:\\Users\\HP\\AppData\\Local\\Temp\\ipykernel_15968\\362610380.py:45: FutureWarning: The frame.append method is deprecated and will be removed from pandas in a future version. Use pandas.concat instead.\n",
      "  IV_df = IV_df.append(nuevo_dato, ignore_index=True)\n",
      "C:\\Users\\HP\\anaconda3\\lib\\site-packages\\pandas\\core\\arraylike.py:397: RuntimeWarning: divide by zero encountered in log\n",
      "  result = getattr(ufunc, method)(*inputs, **kwargs)\n",
      "C:\\Users\\HP\\AppData\\Local\\Temp\\ipykernel_15968\\362610380.py:45: FutureWarning: The frame.append method is deprecated and will be removed from pandas in a future version. Use pandas.concat instead.\n",
      "  IV_df = IV_df.append(nuevo_dato, ignore_index=True)\n"
     ]
    },
    {
     "data": {
      "text/html": [
       "<div>\n",
       "<style scoped>\n",
       "    .dataframe tbody tr th:only-of-type {\n",
       "        vertical-align: middle;\n",
       "    }\n",
       "\n",
       "    .dataframe tbody tr th {\n",
       "        vertical-align: top;\n",
       "    }\n",
       "\n",
       "    .dataframe thead th {\n",
       "        text-align: right;\n",
       "    }\n",
       "</style>\n",
       "<table border=\"1\" class=\"dataframe\">\n",
       "  <thead>\n",
       "    <tr style=\"text-align: right;\">\n",
       "      <th></th>\n",
       "      <th>Variable</th>\n",
       "      <th>IV</th>\n",
       "    </tr>\n",
       "  </thead>\n",
       "  <tbody>\n",
       "    <tr>\n",
       "      <th>0</th>\n",
       "      <td>Customer_Age</td>\n",
       "      <td>inf</td>\n",
       "    </tr>\n",
       "    <tr>\n",
       "      <th>6</th>\n",
       "      <td>Contacts_Count_12_mon</td>\n",
       "      <td>inf</td>\n",
       "    </tr>\n",
       "    <tr>\n",
       "      <th>7</th>\n",
       "      <td>Credit_Limit</td>\n",
       "      <td>inf</td>\n",
       "    </tr>\n",
       "    <tr>\n",
       "      <th>8</th>\n",
       "      <td>Total_Revolving_Bal</td>\n",
       "      <td>inf</td>\n",
       "    </tr>\n",
       "    <tr>\n",
       "      <th>9</th>\n",
       "      <td>Avg_Open_To_Buy</td>\n",
       "      <td>inf</td>\n",
       "    </tr>\n",
       "    <tr>\n",
       "      <th>10</th>\n",
       "      <td>Total_Amt_Chng_Q4_Q1</td>\n",
       "      <td>inf</td>\n",
       "    </tr>\n",
       "    <tr>\n",
       "      <th>11</th>\n",
       "      <td>Total_Trans_Amt</td>\n",
       "      <td>inf</td>\n",
       "    </tr>\n",
       "    <tr>\n",
       "      <th>12</th>\n",
       "      <td>Total_Trans_Ct</td>\n",
       "      <td>inf</td>\n",
       "    </tr>\n",
       "    <tr>\n",
       "      <th>13</th>\n",
       "      <td>Total_Ct_Chng_Q4_Q1</td>\n",
       "      <td>inf</td>\n",
       "    </tr>\n",
       "    <tr>\n",
       "      <th>14</th>\n",
       "      <td>Avg_Utilization_Ratio</td>\n",
       "      <td>inf</td>\n",
       "    </tr>\n",
       "    <tr>\n",
       "      <th>5</th>\n",
       "      <td>Months_Inactive_12_mon</td>\n",
       "      <td>0.370438</td>\n",
       "    </tr>\n",
       "    <tr>\n",
       "      <th>4</th>\n",
       "      <td>Months_on_book</td>\n",
       "      <td>0.045179</td>\n",
       "    </tr>\n",
       "    <tr>\n",
       "      <th>1</th>\n",
       "      <td>Gender</td>\n",
       "      <td>0.010365</td>\n",
       "    </tr>\n",
       "    <tr>\n",
       "      <th>2</th>\n",
       "      <td>Education_Level</td>\n",
       "      <td>0.008515</td>\n",
       "    </tr>\n",
       "    <tr>\n",
       "      <th>3</th>\n",
       "      <td>Marital_Status</td>\n",
       "      <td>0.00444</td>\n",
       "    </tr>\n",
       "  </tbody>\n",
       "</table>\n",
       "</div>"
      ],
      "text/plain": [
       "                  Variable        IV\n",
       "0             Customer_Age       inf\n",
       "6    Contacts_Count_12_mon       inf\n",
       "7             Credit_Limit       inf\n",
       "8      Total_Revolving_Bal       inf\n",
       "9          Avg_Open_To_Buy       inf\n",
       "10    Total_Amt_Chng_Q4_Q1       inf\n",
       "11         Total_Trans_Amt       inf\n",
       "12          Total_Trans_Ct       inf\n",
       "13     Total_Ct_Chng_Q4_Q1       inf\n",
       "14   Avg_Utilization_Ratio       inf\n",
       "5   Months_Inactive_12_mon  0.370438\n",
       "4           Months_on_book  0.045179\n",
       "1                   Gender  0.010365\n",
       "2          Education_Level  0.008515\n",
       "3           Marital_Status   0.00444"
      ]
     },
     "execution_count": 90,
     "metadata": {},
     "output_type": "execute_result"
    }
   ],
   "source": [
    "# Vamos a probarla: \n",
    "variables_calcular = ['Customer_Age','Gender','Education_Level','Marital_Status','Months_on_book','Months_Inactive_12_mon','Contacts_Count_12_mon','Credit_Limit','Total_Revolving_Bal','Avg_Open_To_Buy','Total_Amt_Chng_Q4_Q1','Total_Trans_Amt','Total_Trans_Ct','Total_Ct_Chng_Q4_Q1','Avg_Utilization_Ratio'\n",
    "]\n",
    "\n",
    "tabla_iv = calculadora_IV(variables_calcular,'Attrition_Flag')\n",
    "tabla_iv.sort_values(by = 'IV', ascending = False)"
   ]
  },
  {
   "cell_type": "markdown",
   "id": "188032da",
   "metadata": {},
   "source": [
    "Del análisis anterior podemos concluir que la variable \"Month_inactive_12_mon\" teniendo un valor de 0,3 sugiere que la variable aporta información relevante, pero no es altamente predictiva por sí sola."
   ]
  }
 ],
 "metadata": {
  "kernelspec": {
   "display_name": "Python 3 (ipykernel)",
   "language": "python",
   "name": "python3"
  },
  "language_info": {
   "codemirror_mode": {
    "name": "ipython",
    "version": 3
   },
   "file_extension": ".py",
   "mimetype": "text/x-python",
   "name": "python",
   "nbconvert_exporter": "python",
   "pygments_lexer": "ipython3",
   "version": "3.9.12"
  }
 },
 "nbformat": 4,
 "nbformat_minor": 5
}
