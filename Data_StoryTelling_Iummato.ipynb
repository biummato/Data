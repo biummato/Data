{
 "cells": [
  {
   "cell_type": "markdown",
   "id": "fec65022",
   "metadata": {},
   "source": [
    "# Primera Entrega\n",
    "# Introducción (storytelling):\n",
    "\n",
    "Sabían que en la Argentina actualmente la mitad de la gente aún no cuenta con una cuenta bancaria? Y si además les cuento que el 85% de los clientes de bancos prefieren resignar beneficios antes de pasar por la experiencia de cambiar de banco?\n",
    "Buen día, Mi nombre es Bárbara y quiero contarles que los datos que les traigo hoy me motivaron a especializarme en las principales causas que generar un desgaste en la relación cliente-banco.  Yo desde que ingresé al mercado laborar fui usuaria de bancos comerciales. Y en los 23 años que llevo trabajando recibí muchas ofertar tentadoras para cambiarme de un banco a otro. Esta situación llevó a preguntarme ¿si fuera responsable de un banco, cómo podría identificar un cliente que está próximo a abandonar mis servicios? Actualmente existen muchas estrategias de marketing orientadas a la obtención de clientes y muy pocas orientadas a la retención. Sin embargo, cada año el banco al que pertenezco pierde 8 M USD en clientes que abandonan el servicio. ¿Y si pudiéramos anticiparnos a esta pérdida identificando un modelo predictivo asociado al comportamiento de nuestros clientes? \n",
    "\n",
    "A continuación les comparto el recorrido de mi proyecto de DS orientado a los responsables del departamento de retención de clientes que con la información que arroja el presente modelo puede reducir la diserción de clientes. En la actualidad si podemos aprovechar una herramienta de machine learning que recolecte la experiencia de cada conducta de nuestros clientes y permita perfeccionarnos nuestro modelo permitirá reducir los gastos en retención. Mas allá del aspecto económico, los responsables de la retención de clientes muchas veces pierden el rumbo entre tantos reclamos por parte de nuestros clientes. Esta herramienta viene a fortalecer el trabajo de cada uno de los colaboradores del banco.\n",
    "\n",
    "\n",
    "# Objetivo\n",
    "El presente trabajo tiene como objetivo elaborar un modelo predictivo utilizando las herramientas de data science. Para ello seleccioné el dataset referido a la deserción bancaria, es decir, a la pérdida o desgaste de clientes bancarios. Dicho prámetro está representado por la variable \"Attrition_flag\" y el término “Attition” se refiere al fenómeno en el que los clientes dejan de hacer negocios con un banco o se cambian a otro banco. Esta información es una métrica fundamental para los bancos, ya que afecta directamente a su base de clientes y a sus ingresos. Es por eso que resulta de mucha utilidad entender las principales variables que permitan anticipar la deserción bancaria. El presente trabajo tiene el objetivo de desarrollar un modelo de predicción para anticipar el porcentaje de clientes que abandanan el servicio (variable target).\n",
    "\n",
    "El dataset elegido cuenta con 23 columnas con datos de: cliente, edad, estado del cliente (existente o “desgastado”), genero, nivel de educación, estado civil, categoría de ingresos, categoría de tarjeta de crédito, antigüedad, meses de inactividad, límite de crédito, límite disponible, total de transacciones, entre otras.\n",
    "\n",
    "Antes de comenzar a trabajar el dataset podemos suponer que las categorías antes mencionadas pueden tener dependencia entre sí. Es decir, podríamos indagar si existe relación entre la edad de los clientes y su decisión de abandonar el servicio. Antes de comenzar proponemos plantear los siguientes interrogantes para entender la relación entre nuestras variables. En función de los datos obtenidos podremos elaborar nuestro modelo predictivo. La interacción o dependencia de los features nos permitirá entrenar a nuestro modelo predictivo.\n",
    "\n",
    "# Preguntas e hipótesis\n",
    "Siendo una base con información de clientes bancarios y el detalle de los clientes que abandonan el servicio queremos armar un modelo que permita precedir las variables que determinan si un cliente abandonaá nuestro servicio y en qué proporción % los clientes abandonarán el mismo. Para ello analizaremos: ¿En qué porcentaje los clientes abandonan el servicio? ¿Hay relación entre la edad de los clientes y el abandono del servicio? ¿Cómo se distribuye (%) los clientes que abandonan el servicio según el rango de sus ingresos informados? ¿Existe correlación entre mi variable target (abandono de clientes) y el resto de las variables del presente dataset? ¿Hay diferencias significativas en la distribución del límite crediticio entre los clientes y los que abandonan? ¿Los clientes de mayor edad están abandonando más que los más jóvenes?\n",
    "\n",
    "A continuación realizaremos visualizaciones y tansformaciones de nuestras variables para avanzar en la elaboración de nuestro modelo de DS."
   ]
  },
  {
   "cell_type": "markdown",
   "id": "93602ba6",
   "metadata": {},
   "source": [
    "# Objetivo:\n",
    "Nuestro objetivo es construir un modelo de predicción para clasificar si un cliente abandonará el servicio y la probabilidad de que un cliente abandone nuestro servicio bancario.\n",
    "\n",
    "## Contexto comercial\n",
    "Soy el responsable del área de Servicio al cliente de un importante banco comercial y este año me solictaron desarrollar estratégias de retención de clientes para reducir en un 5% la cantidad de clientes que abandonan el banco dentro de los próximos 12 meses. Mi banco se desarrolla dentro de un sistema con alta competencia y bajas barreras de salida para nuestros clientes.\n",
    "\n",
    "## Problema comercial\n",
    "Sabemos que nuestros clientes reciben, al menos, 4 propuestas al año para cambiarse de banco por distintos beneficios. Sumado a la alta competencia, contamos con estadísticas que nos muestran que el 20% de nuestros clientes presenta al menos un reclamo durante su tiempo cómo cliente. Conocemos los principales motivos de queja y le damos seguimiento, sin embargo, no pudimos establecer el patrón entre los motivos de reclamo, la frecuencia y la deserción. Por lo tanto precisamos desarrollar un modelo que nos permita predecir el porcentaje de deserción.\n",
    "\n",
    "## Contexto analítico\n",
    "Para poder desarrollar el modelo se cuenta con la siguiente información: -- -Base de datos con total de clientes de nuestro banco con el detalle de cada uno según: Edad, Sexo, Nivel educativo, estado civil, categoria de ingresos, categoria de tarjetade credito, antiguedad, años sin movimientos,límite de crédito, límite de reintegros, límite disponible, promedio de límite utilizado, entre otros. \n",
    "-Features: Nuestra base tiene 10.127 registros y 23 variables. No tenemos valores vacíos pero tenemos 14%, 7% y 11% de valores 'desconocidos' en las variables \"nivel educativo\", \"estado civil\" y \"categoria de ingresos\" respectivamente. Considerando que los porcentajes son bajos y que los mismos se presentan en variables categoricas que el cliente no quiso brindar vamos a tratar el valor desconocido como una categoria más. Posiblemente este problema se mantenga en futuros clientes y asumir un valor para dichos valores puede afectar al modelo. Es por eso que preferimos no completar con inferencias.\n",
    "\n",
    "Variable Target: nuestro trabajo presenta el análisis de una variable binaria. Es decír que nuestra variable target puede asumir dos valores: cliente activo o cliente que abandona el servicio. En el presente trabajo nos interesa dimensionar la cantidad de clientes que abandonan el servicio. En nuestro dataser dicho parámetro está representado en la columna \"Attrition_flag\". Originalmente recibimos los datos con dos valores que son \"Existing Customer\" y \"Attrited Customer\". A los finel del trabajo EDA transformaremos las dos categorias mencionadas en un 1 si el cliente mantiene el servicio y 0 si decide abandonar el servicio para poder trabajar los datos de forma cuantitativa y poder relacionarlas con otras variables.\n",
    "\n",
    "A continuación exploraremos los datos con las herramientas de la librería pandas.crosstab para obtener gráficos que relacionen nuestra variable target con el resto de las características. Luego analizaremos la dependencia entre la variable target y el resto de las variables. Dado que nuestra base tiene la mayoría de sus variables categoricas las transformaremos en variables numéricas para poder establecer la correlación entre las mismas y obtener conclusiones. Finalmente elaboraremos nuevas variables que nos permita alimentar nuestro modelo predictivo con mayor precisión.\n",
    "\n",
    "## EDA\n",
    "A continuación se desarrolla distintos análisis exploratorio de los datos."
   ]
  },
  {
   "cell_type": "code",
   "execution_count": 72,
   "id": "3f72f242",
   "metadata": {},
   "outputs": [],
   "source": [
    "#Dado que para el presente trabajo utilizamos jupyter notebook el primer paso\n",
    "# es importar librerías estándar que nos facilitarán trabajar nuestros datos.\n",
    "\n",
    "import pandas as pd\n",
    "import numpy as np\n",
    "import matplotlib as mpl\n",
    "import matplotlib.pyplot as plt\n",
    "import seaborn as sns\n",
    "\n",
    "# Libreria para estimar regresión\n",
    "import statsmodels.formula.api as sm\n",
    "\n",
    "# Libreria para PCA\n",
    "from sklearn.decomposition import PCA\n",
    "from sklearn.preprocessing import StandardScaler"
   ]
  },
  {
   "cell_type": "code",
   "execution_count": 73,
   "id": "8f1e0074",
   "metadata": {},
   "outputs": [
    {
     "name": "stderr",
     "output_type": "stream",
     "text": [
      "Downloading...\n",
      "From: https://drive.google.com/uc?id=1q-d4ynkoY0ryNcDBd7ABuO3kc1wSaRzU\n",
      "To: C:\\Users\\HP\\Downloads\\BankChurners.csv\n",
      "100%|█████████████████████████████████████████████████████████████████████████████| 1.51M/1.51M [00:00<00:00, 3.24MB/s]\n"
     ]
    },
    {
     "name": "stdout",
     "output_type": "stream",
     "text": [
      "   CLIENTNUM     Attrition_Flag  Customer_Age Gender  Dependent_count  \\\n",
      "0  768805383  Existing Customer            45      M                3   \n",
      "1  818770008  Existing Customer            49      F                5   \n",
      "\n",
      "  Education_Level Marital_Status Income_Category Card_Category  \\\n",
      "0     High School        Married     $60K - $80K          Blue   \n",
      "1        Graduate         Single  Less than $40K          Blue   \n",
      "\n",
      "   Months_on_book  ...  Credit_Limit  Total_Revolving_Bal  Avg_Open_To_Buy  \\\n",
      "0              39  ...       12691.0                  777          11914.0   \n",
      "1              44  ...        8256.0                  864           7392.0   \n",
      "\n",
      "   Total_Amt_Chng_Q4_Q1  Total_Trans_Amt  Total_Trans_Ct  Total_Ct_Chng_Q4_Q1  \\\n",
      "0                 1.335             1144              42                1.625   \n",
      "1                 1.541             1291              33                3.714   \n",
      "\n",
      "   Avg_Utilization_Ratio  \\\n",
      "0                  0.061   \n",
      "1                  0.105   \n",
      "\n",
      "   Naive_Bayes_Classifier_Attrition_Flag_Card_Category_Contacts_Count_12_mon_Dependent_count_Education_Level_Months_Inactive_12_mon_1  \\\n",
      "0                                           0.000093                                                                                    \n",
      "1                                           0.000057                                                                                    \n",
      "\n",
      "   Naive_Bayes_Classifier_Attrition_Flag_Card_Category_Contacts_Count_12_mon_Dependent_count_Education_Level_Months_Inactive_12_mon_2  \n",
      "0                                            0.99991                                                                                   \n",
      "1                                            0.99994                                                                                   \n",
      "\n",
      "[2 rows x 23 columns]\n"
     ]
    }
   ],
   "source": [
    "# A continuación vamos a importar nuestro dataset previamente guardado en Drive.\n",
    "# El dataset se obtuvo de Kaggle, un sitio web dónde se comparten dataset \n",
    "# con información de distintas temáticas.\n",
    "\n",
    "import gdown\n",
    "import pandas as pd\n",
    "\n",
    "url = 'https://drive.google.com/uc?id=1q-d4ynkoY0ryNcDBd7ABuO3kc1wSaRzU'\n",
    "# Nombre del archivo local donde se descargará el CSV\n",
    "Dataset_bankChurners = 'BankChurners.csv'\n",
    "\n",
    "# Descarga del archivo CSV desde Google Drive\n",
    "gdown.download(url, Dataset_bankChurners, quiet=False)\n",
    "\n",
    "# Carga del archivo CSV en un DataFrame de pandas\n",
    "customer_data = pd.read_csv(Dataset_bankChurners)\n",
    "\n",
    "# Muestra las primeras filas del DataFrame para verificar\n",
    "print(customer_data.head(2))"
   ]
  },
  {
   "cell_type": "code",
   "execution_count": 74,
   "id": "9d82a70f",
   "metadata": {},
   "outputs": [],
   "source": [
    "# El dataset elegido contaba con dos columnas calculadas que no utilizaremos. \n",
    "# Por lo tanto a continuación le indicamos a jupyter que utilizaremos de la \n",
    "# 1er columna y prescindiremos de las últimas 2.\n",
    "customer_data = customer_data.iloc[:, 1:-2]"
   ]
  },
  {
   "cell_type": "code",
   "execution_count": 75,
   "id": "2903a0e9",
   "metadata": {},
   "outputs": [
    {
     "data": {
      "image/png": "[encoded data removed]",
      "text/plain": [
       "<Figure size 432x288 with 1 Axes>"
      ]
     },
     "metadata": {
      "needs_background": "light"
     },
     "output_type": "display_data"
    }
   ],
   "source": [
    "# Ahora estamos listos para realizar gráficos que nos permitan interiorizarnos \n",
    "# con nuestro dataset-\n",
    "# Grafico univariado de \"Total de clientes según si abandonaron el servicio\"\n",
    "\n",
    "plt.figure()\n",
    "ax = sns.countplot(data=customer_data, x='Attrition_Flag')\n",
    "\n",
    "# Agregamos etiquetas y título\n",
    "plt.xlabel('Attrition Flag')\n",
    "plt.ylabel('Recuento')\n",
    "plt.title('Recuento de Cliente Existentes y Ex-Clientes')\n",
    "\n",
    "# Agregamos etiquetas con los valores de cada columna\n",
    "for p in ax.patches:\n",
    "    height = p.get_height()\n",
    "    ax.annotate(f'{int(height)}', (p.get_x() + p.get_width() / 2., height), ha='center', va='baseline')\n",
    "\n",
    "# Mostramos el gráfico\n",
    "plt.show()"
   ]
  },
  {
   "cell_type": "markdown",
   "id": "2a488167",
   "metadata": {},
   "source": [
    "El 1er gráfico nos muestra la relación entre el total de clientes que mantienen el servicio (Existing Customer) y los que abandonan (Attrited Customer). Esta visualización simple nos permitirá a lo largo de nuestro análisis deducir si los resultados que obtenemos son consistentes con esta 1era aproximación. "
   ]
  },
  {
   "cell_type": "code",
   "execution_count": 76,
   "id": "fca60908",
   "metadata": {},
   "outputs": [
    {
     "name": "stdout",
     "output_type": "stream",
     "text": [
      "Data Types:\n",
      "Attrition_Flag               object\n",
      "Customer_Age                  int64\n",
      "Gender                       object\n",
      "Dependent_count               int64\n",
      "Education_Level              object\n",
      "Marital_Status               object\n",
      "Income_Category              object\n",
      "Card_Category                object\n",
      "Months_on_book                int64\n",
      "Total_Relationship_Count      int64\n",
      "Months_Inactive_12_mon        int64\n",
      "Contacts_Count_12_mon         int64\n",
      "Credit_Limit                float64\n",
      "Total_Revolving_Bal           int64\n",
      "Avg_Open_To_Buy             float64\n",
      "Total_Amt_Chng_Q4_Q1        float64\n",
      "Total_Trans_Amt               int64\n",
      "Total_Trans_Ct                int64\n",
      "Total_Ct_Chng_Q4_Q1         float64\n",
      "Avg_Utilization_Ratio       float64\n",
      "dtype: object\n",
      "\n",
      "Rows and Columns:\n",
      "(10127, 20)\n",
      "\n",
      "Column Names:\n",
      "Index(['Attrition_Flag', 'Customer_Age', 'Gender', 'Dependent_count',\n",
      "       'Education_Level', 'Marital_Status', 'Income_Category', 'Card_Category',\n",
      "       'Months_on_book', 'Total_Relationship_Count', 'Months_Inactive_12_mon',\n",
      "       'Contacts_Count_12_mon', 'Credit_Limit', 'Total_Revolving_Bal',\n",
      "       'Avg_Open_To_Buy', 'Total_Amt_Chng_Q4_Q1', 'Total_Trans_Amt',\n",
      "       'Total_Trans_Ct', 'Total_Ct_Chng_Q4_Q1', 'Avg_Utilization_Ratio'],\n",
      "      dtype='object')\n",
      "\n",
      "Null Values %:\n",
      "Attrition_Flag              0.0\n",
      "Customer_Age                0.0\n",
      "Gender                      0.0\n",
      "Dependent_count             0.0\n",
      "Education_Level             0.0\n",
      "Marital_Status              0.0\n",
      "Income_Category             0.0\n",
      "Card_Category               0.0\n",
      "Months_on_book              0.0\n",
      "Total_Relationship_Count    0.0\n",
      "Months_Inactive_12_mon      0.0\n",
      "Contacts_Count_12_mon       0.0\n",
      "Credit_Limit                0.0\n",
      "Total_Revolving_Bal         0.0\n",
      "Avg_Open_To_Buy             0.0\n",
      "Total_Amt_Chng_Q4_Q1        0.0\n",
      "Total_Trans_Amt             0.0\n",
      "Total_Trans_Ct              0.0\n",
      "Total_Ct_Chng_Q4_Q1         0.0\n",
      "Avg_Utilization_Ratio       0.0\n",
      "dtype: float64\n",
      "\n",
      "Unknown Values %:\n",
      "Attrition_Flag              0.000000\n",
      "Customer_Age                0.000000\n",
      "Gender                      0.000000\n",
      "Dependent_count             0.000000\n",
      "Education_Level             0.149995\n",
      "Marital_Status              0.073961\n",
      "Income_Category             0.109805\n",
      "Card_Category               0.000000\n",
      "Months_on_book              0.000000\n",
      "Total_Relationship_Count    0.000000\n",
      "Months_Inactive_12_mon      0.000000\n",
      "Contacts_Count_12_mon       0.000000\n",
      "Credit_Limit                0.000000\n",
      "Total_Revolving_Bal         0.000000\n",
      "Avg_Open_To_Buy             0.000000\n",
      "Total_Amt_Chng_Q4_Q1        0.000000\n",
      "Total_Trans_Amt             0.000000\n",
      "Total_Trans_Ct              0.000000\n",
      "Total_Ct_Chng_Q4_Q1         0.000000\n",
      "Avg_Utilization_Ratio       0.000000\n",
      "dtype: float64\n"
     ]
    }
   ],
   "source": [
    "# A continuación visualizamos qué tipo de dato es cada variable, la dimensión del dataset\n",
    "# y la cantidad de registros nulos de cada variable. Esta información nos permite saber cómo \n",
    "# debemos manipular cada tipo de dato. \n",
    "\n",
    "\n",
    "print(f\"Data Types:\\n{customer_data.dtypes}\")\n",
    "print(f\"\\nRows and Columns:\\n{customer_data.shape}\")\n",
    "print(f\"\\nColumn Names:\\n{customer_data.columns}\")\n",
    "print(f\"\\nNull Values %:\\n{customer_data.apply(lambda x: sum(x.isnull()) / len(customer_data))}\")\n",
    "print(f\"\\nUnknown Values %:\\n{customer_data.apply(lambda x: sum(x=='Unknown') / len(customer_data))}\")"
   ]
  },
  {
   "cell_type": "code",
   "execution_count": 77,
   "id": "ab0ffc67",
   "metadata": {},
   "outputs": [
    {
     "data": {
      "text/html": [
       "<div>\n",
       "<style scoped>\n",
       "    .dataframe tbody tr th:only-of-type {\n",
       "        vertical-align: middle;\n",
       "    }\n",
       "\n",
       "    .dataframe tbody tr th {\n",
       "        vertical-align: top;\n",
       "    }\n",
       "\n",
       "    .dataframe thead th {\n",
       "        text-align: right;\n",
       "    }\n",
       "</style>\n",
       "<table border=\"1\" class=\"dataframe\">\n",
       "  <thead>\n",
       "    <tr style=\"text-align: right;\">\n",
       "      <th>Attrition_Flag</th>\n",
       "      <th>Attrited Customer</th>\n",
       "      <th>Existing Customer</th>\n",
       "      <th>Total</th>\n",
       "    </tr>\n",
       "    <tr>\n",
       "      <th>Gender</th>\n",
       "      <th></th>\n",
       "      <th></th>\n",
       "      <th></th>\n",
       "    </tr>\n",
       "  </thead>\n",
       "  <tbody>\n",
       "    <tr>\n",
       "      <th>F</th>\n",
       "      <td>930</td>\n",
       "      <td>4428</td>\n",
       "      <td>5358</td>\n",
       "    </tr>\n",
       "    <tr>\n",
       "      <th>M</th>\n",
       "      <td>697</td>\n",
       "      <td>4072</td>\n",
       "      <td>4769</td>\n",
       "    </tr>\n",
       "    <tr>\n",
       "      <th>Total</th>\n",
       "      <td>1627</td>\n",
       "      <td>8500</td>\n",
       "      <td>10127</td>\n",
       "    </tr>\n",
       "  </tbody>\n",
       "</table>\n",
       "</div>"
      ],
      "text/plain": [
       "Attrition_Flag  Attrited Customer  Existing Customer  Total\n",
       "Gender                                                     \n",
       "F                             930               4428   5358\n",
       "M                             697               4072   4769\n",
       "Total                        1627               8500  10127"
      ]
     },
     "execution_count": 77,
     "metadata": {},
     "output_type": "execute_result"
    }
   ],
   "source": [
    "# Dado que tenemos el campo Genero vamos a visualizar si nuestra variable target se \n",
    "# comporta distinto según el genero de nuestros clientes:\n",
    "\n",
    "\n",
    "pd.crosstab(customer_data['Gender'], customer_data['Attrition_Flag'], margins = True, margins_name = \"Total\")"
   ]
  },
  {
   "cell_type": "markdown",
   "id": "006d679c",
   "metadata": {},
   "source": [
    "A primera vista no se ve una dependencia entre el genero y la decisión de abandonar el servicio."
   ]
  },
  {
   "cell_type": "code",
   "execution_count": 78,
   "id": "71dc56c9",
   "metadata": {},
   "outputs": [
    {
     "data": {
      "text/html": [
       "<div>\n",
       "<style scoped>\n",
       "    .dataframe tbody tr th:only-of-type {\n",
       "        vertical-align: middle;\n",
       "    }\n",
       "\n",
       "    .dataframe tbody tr th {\n",
       "        vertical-align: top;\n",
       "    }\n",
       "\n",
       "    .dataframe thead th {\n",
       "        text-align: right;\n",
       "    }\n",
       "</style>\n",
       "<table border=\"1\" class=\"dataframe\">\n",
       "  <thead>\n",
       "    <tr style=\"text-align: right;\">\n",
       "      <th>Attrition_Flag</th>\n",
       "      <th>Attrited Customer</th>\n",
       "      <th>Existing Customer</th>\n",
       "    </tr>\n",
       "    <tr>\n",
       "      <th>Gender</th>\n",
       "      <th></th>\n",
       "      <th></th>\n",
       "    </tr>\n",
       "  </thead>\n",
       "  <tbody>\n",
       "    <tr>\n",
       "      <th>F</th>\n",
       "      <td>0.173572</td>\n",
       "      <td>0.826428</td>\n",
       "    </tr>\n",
       "    <tr>\n",
       "      <th>M</th>\n",
       "      <td>0.146152</td>\n",
       "      <td>0.853848</td>\n",
       "    </tr>\n",
       "    <tr>\n",
       "      <th>% row</th>\n",
       "      <td>0.160660</td>\n",
       "      <td>0.839340</td>\n",
       "    </tr>\n",
       "  </tbody>\n",
       "</table>\n",
       "</div>"
      ],
      "text/plain": [
       "Attrition_Flag  Attrited Customer  Existing Customer\n",
       "Gender                                              \n",
       "F                        0.173572           0.826428\n",
       "M                        0.146152           0.853848\n",
       "% row                    0.160660           0.839340"
      ]
     },
     "metadata": {},
     "output_type": "display_data"
    },
    {
     "data": {
      "text/plain": [
       "<AxesSubplot:xlabel='Attrition_Flag', ylabel='Gender'>"
      ]
     },
     "execution_count": 78,
     "metadata": {},
     "output_type": "execute_result"
    },
    {
     "data": {
      "image/png": "[encoded data removed]",
      "text/plain": [
       "<Figure size 432x288 with 2 Axes>"
      ]
     },
     "metadata": {
      "needs_background": "light"
     },
     "output_type": "display_data"
    }
   ],
   "source": [
    "# Para ahondar más en el cuadro anterio, analizamos la probabilidad condicional de genero y \n",
    "# nuestra variable target y lo representamos en un gráfico con tonos de azul para evidenciar \n",
    "# la dependencia de las variables.\n",
    "\n",
    "cross = pd.crosstab(customer_data['Gender'], \n",
    "            customer_data['Attrition_Flag'], \n",
    "            margins = True, \n",
    "            margins_name = \"% row\", \n",
    "            normalize='index')\n",
    "display(cross)\n",
    "sns.heatmap(cross, annot=True, fmt='.0%', cmap='Blues')"
   ]
  },
  {
   "cell_type": "markdown",
   "id": "3ffba56b",
   "metadata": {},
   "source": [
    "Nuevamente observamos que los % por genero no evidencian porcentajes muy dispares."
   ]
  },
  {
   "cell_type": "code",
   "execution_count": 79,
   "id": "aad36b07",
   "metadata": {},
   "outputs": [
    {
     "data": {
      "text/html": [
       "<div>\n",
       "<style scoped>\n",
       "    .dataframe tbody tr th:only-of-type {\n",
       "        vertical-align: middle;\n",
       "    }\n",
       "\n",
       "    .dataframe tbody tr th {\n",
       "        vertical-align: top;\n",
       "    }\n",
       "\n",
       "    .dataframe thead th {\n",
       "        text-align: right;\n",
       "    }\n",
       "</style>\n",
       "<table border=\"1\" class=\"dataframe\">\n",
       "  <thead>\n",
       "    <tr style=\"text-align: right;\">\n",
       "      <th>Attrition_Flag</th>\n",
       "      <th>Attrited Customer</th>\n",
       "      <th>Existing Customer</th>\n",
       "      <th>% columns</th>\n",
       "    </tr>\n",
       "    <tr>\n",
       "      <th>Gender</th>\n",
       "      <th></th>\n",
       "      <th></th>\n",
       "      <th></th>\n",
       "    </tr>\n",
       "  </thead>\n",
       "  <tbody>\n",
       "    <tr>\n",
       "      <th>F</th>\n",
       "      <td>0.571604</td>\n",
       "      <td>0.520941</td>\n",
       "      <td>0.529081</td>\n",
       "    </tr>\n",
       "    <tr>\n",
       "      <th>M</th>\n",
       "      <td>0.428396</td>\n",
       "      <td>0.479059</td>\n",
       "      <td>0.470919</td>\n",
       "    </tr>\n",
       "  </tbody>\n",
       "</table>\n",
       "</div>"
      ],
      "text/plain": [
       "Attrition_Flag  Attrited Customer  Existing Customer  % columns\n",
       "Gender                                                         \n",
       "F                        0.571604           0.520941   0.529081\n",
       "M                        0.428396           0.479059   0.470919"
      ]
     },
     "metadata": {},
     "output_type": "display_data"
    },
    {
     "data": {
      "text/plain": [
       "<AxesSubplot:xlabel='Attrition_Flag', ylabel='Gender'>"
      ]
     },
     "execution_count": 79,
     "metadata": {},
     "output_type": "execute_result"
    },
    {
     "data": {
      "image/png": "[encoded data removed]",
      "text/plain": [
       "<Figure size 432x288 with 2 Axes>"
      ]
     },
     "metadata": {
      "needs_background": "light"
     },
     "output_type": "display_data"
    }
   ],
   "source": [
    "# Finalmente vamos a expresar los valores en porcentajes absolutos para agilizar \n",
    "# nuestro suposición preliminar\n",
    "\n",
    "cross = pd.crosstab(customer_data['Gender'], \n",
    "            customer_data['Attrition_Flag'], \n",
    "            margins = True, \n",
    "            margins_name = \"% columns\", \n",
    "            normalize='columns')\n",
    "display(cross)\n",
    "sns.heatmap(cross, annot=True, fmt='.0%', cmap='Blues')"
   ]
  },
  {
   "cell_type": "markdown",
   "id": "175776bb",
   "metadata": {},
   "source": [
    "Si bien hay una diferencia entre los porcentajes podemos sospechar que no será una variable determinante a la hora de enetrenar a nuestro modelo."
   ]
  },
  {
   "cell_type": "code",
   "execution_count": 80,
   "id": "18a6fc72",
   "metadata": {},
   "outputs": [
    {
     "data": {
      "image/png": "[encoded data removed]",
      "text/plain": [
       "<Figure size 448.075x288 with 2 Axes>"
      ]
     },
     "metadata": {
      "needs_background": "light"
     },
     "output_type": "display_data"
    }
   ],
   "source": [
    "# A continuación tomamos la variable \"Categoria de Tarjeta\". La propuesta es preguntarnos si \n",
    "# los clientes con determinada categoria son más proponsos a abandonar el servicio.\n",
    "\n",
    "sns.catplot(x=\"Card_Category\", hue=\"Gender\", col=\"Attrition_Flag\",\n",
    "                data=customer_data, kind=\"count\",\n",
    "                height=4, aspect=.7);"
   ]
  },
  {
   "cell_type": "code",
   "execution_count": 13,
   "id": "bc033c5c",
   "metadata": {},
   "outputs": [
    {
     "data": {
      "text/html": [
       "<div>\n",
       "<style scoped>\n",
       "    .dataframe tbody tr th:only-of-type {\n",
       "        vertical-align: middle;\n",
       "    }\n",
       "\n",
       "    .dataframe tbody tr th {\n",
       "        vertical-align: top;\n",
       "    }\n",
       "\n",
       "    .dataframe thead th {\n",
       "        text-align: right;\n",
       "    }\n",
       "</style>\n",
       "<table border=\"1\" class=\"dataframe\">\n",
       "  <thead>\n",
       "    <tr style=\"text-align: right;\">\n",
       "      <th>Attrition_Flag</th>\n",
       "      <th>Attrited Customer</th>\n",
       "      <th>Existing Customer</th>\n",
       "      <th>% columns</th>\n",
       "    </tr>\n",
       "    <tr>\n",
       "      <th>Card_Category</th>\n",
       "      <th></th>\n",
       "      <th></th>\n",
       "      <th></th>\n",
       "    </tr>\n",
       "  </thead>\n",
       "  <tbody>\n",
       "    <tr>\n",
       "      <th>Blue</th>\n",
       "      <td>0.933620</td>\n",
       "      <td>0.931412</td>\n",
       "      <td>0.931767</td>\n",
       "    </tr>\n",
       "    <tr>\n",
       "      <th>Gold</th>\n",
       "      <td>0.012907</td>\n",
       "      <td>0.011176</td>\n",
       "      <td>0.011455</td>\n",
       "    </tr>\n",
       "    <tr>\n",
       "      <th>Platinum</th>\n",
       "      <td>0.003073</td>\n",
       "      <td>0.001765</td>\n",
       "      <td>0.001975</td>\n",
       "    </tr>\n",
       "    <tr>\n",
       "      <th>Silver</th>\n",
       "      <td>0.050400</td>\n",
       "      <td>0.055647</td>\n",
       "      <td>0.054804</td>\n",
       "    </tr>\n",
       "  </tbody>\n",
       "</table>\n",
       "</div>"
      ],
      "text/plain": [
       "Attrition_Flag  Attrited Customer  Existing Customer  % columns\n",
       "Card_Category                                                  \n",
       "Blue                     0.933620           0.931412   0.931767\n",
       "Gold                     0.012907           0.011176   0.011455\n",
       "Platinum                 0.003073           0.001765   0.001975\n",
       "Silver                   0.050400           0.055647   0.054804"
      ]
     },
     "metadata": {},
     "output_type": "display_data"
    },
    {
     "data": {
      "text/plain": [
       "<AxesSubplot:xlabel='Attrition_Flag', ylabel='Card_Category'>"
      ]
     },
     "execution_count": 13,
     "metadata": {},
     "output_type": "execute_result"
    },
    {
     "data": {
      "image/png": "[encoded data removed]",
      "text/plain": [
       "<Figure size 432x288 with 2 Axes>"
      ]
     },
     "metadata": {
      "needs_background": "light"
     },
     "output_type": "display_data"
    }
   ],
   "source": [
    "cross = pd.crosstab(customer_data['Card_Category'], \n",
    "            customer_data['Attrition_Flag'], \n",
    "            margins = True, \n",
    "            margins_name = \"% columns\", \n",
    "            normalize='columns')\n",
    "display(cross)\n",
    "sns.heatmap(cross, annot=True, fmt='.0%', cmap='Blues')"
   ]
  },
  {
   "cell_type": "markdown",
   "id": "df50ce59",
   "metadata": {},
   "source": [
    "El análisis de nuestra segunda variable, Categoria de tarjeta, tampoco pareciera contenter información valiosa para anticipar si un cliente abandonará el servicio.\n",
    "\n",
    "A continuanción utilizaremos algunas herramientas de manipulación de datos para avanzar en la construcción de nuestro modelo. "
   ]
  },
  {
   "cell_type": "markdown",
   "id": "adfe8eb1",
   "metadata": {},
   "source": [
    "# Manipulación de Datos"
   ]
  },
  {
   "cell_type": "code",
   "execution_count": 81,
   "id": "da3f1037",
   "metadata": {},
   "outputs": [
    {
     "name": "stdout",
     "output_type": "stream",
     "text": [
      "6 Categorical features:\n",
      "['Attrition_Flag', 'Gender', 'Education_Level', 'Marital_Status', 'Income_Category', 'Card_Category']\n",
      "\n",
      "5 float64 features:\n",
      "['Credit_Limit', 'Avg_Open_To_Buy', 'Total_Amt_Chng_Q4_Q1', 'Total_Ct_Chng_Q4_Q1', 'Avg_Utilization_Ratio']\n",
      "\n",
      "9 int features:\n",
      "['Customer_Age', 'Dependent_count', 'Months_on_book', 'Total_Relationship_Count', 'Months_Inactive_12_mon', 'Contacts_Count_12_mon', 'Total_Revolving_Bal', 'Total_Trans_Amt', 'Total_Trans_Ct']\n"
     ]
    }
   ],
   "source": [
    "# Para manipular datos, primero debemos entender las características de nuestros datos.\n",
    "# Para ello listaremos la lista de variables según sus caracteristicas\n",
    "\n",
    "s = (customer_data.dtypes == 'object')\n",
    "cat_cols = list(s[s].index)\n",
    "print(f\"{len(cat_cols)} Categorical features:\\n{cat_cols}\")\n",
    "\n",
    "s = (customer_data.dtypes == 'float64')\n",
    "float64_cols = list(s[s].index)\n",
    "print(f\"\\n{len(float64_cols)} float64 features:\\n{float64_cols}\")\n",
    "\n",
    "s = (customer_data.dtypes == 'int64')\n",
    "int64_cols = list(s[s].index)\n",
    "print(f\"\\n{len(int64_cols)} int features:\\n{int64_cols}\")\n",
    "del s"
   ]
  },
  {
   "cell_type": "markdown",
   "id": "8d056246",
   "metadata": {},
   "source": [
    "Como podemos ver, nuestra variable target es una variable categorica. "
   ]
  },
  {
   "cell_type": "code",
   "execution_count": 82,
   "id": "792c673d",
   "metadata": {},
   "outputs": [
    {
     "name": "stdout",
     "output_type": "stream",
     "text": [
      "\n",
      "5 numpy.number features::\n",
      "['Credit_Limit', 'Avg_Open_To_Buy', 'Total_Amt_Chng_Q4_Q1', 'Total_Ct_Chng_Q4_Q1', 'Avg_Utilization_Ratio']\n"
     ]
    }
   ],
   "source": [
    "# Dado que identificamos 5 campos de tipo float64 vamos a transformarlos al idioma de \n",
    "# numpy para aprovechar las librerías de esta biblioteca.\n",
    "\n",
    "s = (customer_data.dtypes == np.number)\n",
    "num_cols = list(s[s].index)\n",
    "print(f\"\\n{len(num_cols)} numpy.number features::\\n{num_cols}\")\n",
    "del s"
   ]
  },
  {
   "cell_type": "code",
   "execution_count": 83,
   "id": "013f34e8",
   "metadata": {},
   "outputs": [
    {
     "data": {
      "text/html": [
       "<div>\n",
       "<style scoped>\n",
       "    .dataframe tbody tr th:only-of-type {\n",
       "        vertical-align: middle;\n",
       "    }\n",
       "\n",
       "    .dataframe tbody tr th {\n",
       "        vertical-align: top;\n",
       "    }\n",
       "\n",
       "    .dataframe thead th {\n",
       "        text-align: right;\n",
       "    }\n",
       "</style>\n",
       "<table border=\"1\" class=\"dataframe\">\n",
       "  <thead>\n",
       "    <tr style=\"text-align: right;\">\n",
       "      <th></th>\n",
       "      <th>Attrition_Flag</th>\n",
       "      <th>Gender</th>\n",
       "      <th>Education_Level</th>\n",
       "      <th>Marital_Status</th>\n",
       "      <th>Income_Category</th>\n",
       "      <th>Card_Category</th>\n",
       "    </tr>\n",
       "  </thead>\n",
       "  <tbody>\n",
       "    <tr>\n",
       "      <th>count</th>\n",
       "      <td>10127</td>\n",
       "      <td>10127</td>\n",
       "      <td>10127</td>\n",
       "      <td>10127</td>\n",
       "      <td>10127</td>\n",
       "      <td>10127</td>\n",
       "    </tr>\n",
       "    <tr>\n",
       "      <th>unique</th>\n",
       "      <td>2</td>\n",
       "      <td>2</td>\n",
       "      <td>7</td>\n",
       "      <td>4</td>\n",
       "      <td>6</td>\n",
       "      <td>4</td>\n",
       "    </tr>\n",
       "    <tr>\n",
       "      <th>top</th>\n",
       "      <td>Existing Customer</td>\n",
       "      <td>F</td>\n",
       "      <td>Graduate</td>\n",
       "      <td>Married</td>\n",
       "      <td>Less than $40K</td>\n",
       "      <td>Blue</td>\n",
       "    </tr>\n",
       "    <tr>\n",
       "      <th>freq</th>\n",
       "      <td>8500</td>\n",
       "      <td>5358</td>\n",
       "      <td>3128</td>\n",
       "      <td>4687</td>\n",
       "      <td>3561</td>\n",
       "      <td>9436</td>\n",
       "    </tr>\n",
       "  </tbody>\n",
       "</table>\n",
       "</div>"
      ],
      "text/plain": [
       "           Attrition_Flag Gender Education_Level Marital_Status  \\\n",
       "count               10127  10127           10127          10127   \n",
       "unique                  2      2               7              4   \n",
       "top     Existing Customer      F        Graduate        Married   \n",
       "freq                 8500   5358            3128           4687   \n",
       "\n",
       "       Income_Category Card_Category  \n",
       "count            10127         10127  \n",
       "unique               6             4  \n",
       "top     Less than $40K          Blue  \n",
       "freq              3561          9436  "
      ]
     },
     "execution_count": 83,
     "metadata": {},
     "output_type": "execute_result"
    }
   ],
   "source": [
    "# Dado que ya realizamos algunas transformaciones resulta útil visualizar los principales valores de \n",
    "# nuestra base para entender las caracteristicas de nuestros datos.\n",
    "\n",
    "customer_data[cat_cols].describe()"
   ]
  },
  {
   "cell_type": "code",
   "execution_count": null,
   "id": "4d032da3",
   "metadata": {},
   "outputs": [],
   "source": [
    "#Parte de una buena práctica de la gestión de los datos es\n",
    "# transformar las columnas de tipo objetos a categorias para usar menos memoria:"
   ]
  },
  {
   "cell_type": "code",
   "execution_count": 84,
   "id": "86185378",
   "metadata": {},
   "outputs": [
    {
     "name": "stdout",
     "output_type": "stream",
     "text": [
      "Memory Usage as Object type:\n",
      "Index                128\n",
      "Attrition_Flag     81016\n",
      "Gender             81016\n",
      "Education_Level    81016\n",
      "Marital_Status     81016\n",
      "Income_Category    81016\n",
      "Card_Category      81016\n",
      "dtype: int64\n",
      "\n",
      "Memory Usage as Category type:\n",
      "Index                128\n",
      "Attrition_Flag     10251\n",
      "Gender             10251\n",
      "Education_Level    10483\n",
      "Marital_Status     10331\n",
      "Income_Category    10347\n",
      "Card_Category      10331\n",
      "dtype: int64\n"
     ]
    }
   ],
   "source": [
    "print(f'Memory Usage as Object type:\\n{customer_data[cat_cols].memory_usage()}')\n",
    "customer_data[cat_cols] = customer_data[cat_cols].astype('category')\n",
    "print(f'\\nMemory Usage as Category type:\\n{customer_data[cat_cols].memory_usage()}')"
   ]
  },
  {
   "cell_type": "code",
   "execution_count": 85,
   "id": "e585cdd6",
   "metadata": {},
   "outputs": [
    {
     "data": {
      "text/plain": [
       "-0.033605016317173456"
      ]
     },
     "metadata": {},
     "output_type": "display_data"
    },
    {
     "data": {
      "text/plain": [
       "<AxesSubplot:xlabel='Customer_Age', ylabel='Count'>"
      ]
     },
     "execution_count": 85,
     "metadata": {},
     "output_type": "execute_result"
    },
    {
     "data": {
      "image/png": "[encoded data removed]",
      "text/plain": [
       "<Figure size 432x288 with 1 Axes>"
      ]
     },
     "metadata": {
      "needs_background": "light"
     },
     "output_type": "display_data"
    }
   ],
   "source": [
    "# Y ahora continuamos con nuestra análisis de datos. Dado que sabemos que los modelos \n",
    "# funcionan mejor en datos distribuidos simetricamente vamos a anlizar la distribución de la variable edad.\n",
    "display(customer_data['Customer_Age'].skew())\n",
    "sns.histplot(customer_data.Customer_Age,kde=True)"
   ]
  },
  {
   "cell_type": "code",
   "execution_count": 86,
   "id": "f373a2b3",
   "metadata": {},
   "outputs": [
    {
     "name": "stdout",
     "output_type": "stream",
     "text": [
      "Cutomer_Age std: 8.016814032549084\n"
     ]
    },
    {
     "data": {
      "text/plain": [
       "<AxesSubplot:xlabel='Customer_Age', ylabel='Count'>"
      ]
     },
     "execution_count": 86,
     "metadata": {},
     "output_type": "execute_result"
    },
    {
     "data": {
      "image/png": "[encoded data removed]",
      "text/plain": [
       "<Figure size 432x288 with 1 Axes>"
      ]
     },
     "metadata": {
      "needs_background": "light"
     },
     "output_type": "display_data"
    }
   ],
   "source": [
    "print(f\"Cutomer_Age std: {customer_data['Customer_Age'].std()}\")\n",
    "sns.histplot(customer_data.Customer_Age,kde=True, bins=int(customer_data['Customer_Age'].std()))"
   ]
  },
  {
   "cell_type": "markdown",
   "id": "8c5f1998",
   "metadata": {},
   "source": [
    "El resultado mide el sesgo indica cuánto se desvía la distribución de una forma perfectamente simétrica. Dado que el valor del sesgo es negativo, al observar el histograma, vemos una cola más larga a la izquierda, lo que indica una distribución asimétrica hacia la izquierda. Siendo un valor pequeño podemos concluir que la asimetría no es significativa."
   ]
  },
  {
   "cell_type": "markdown",
   "id": "2e774f5d",
   "metadata": {},
   "source": [
    "A continuación vamos a construir 2 nuevas categorias para visualizar \n",
    "la edad de los clientes y su antiguedad en rangos. Los rangos resultan útiles para simplificar el análisis, identificar patrones y reducir la distorsion de los datos."
   ]
  },
  {
   "cell_type": "code",
   "execution_count": 87,
   "id": "97061726",
   "metadata": {},
   "outputs": [],
   "source": [
    "# Variable Customer_Age_Period y visualización\n",
    "\n",
    "customer_data['Customer_Age_period'] = pd.cut(np.array(customer_data['Customer_Age']), \n",
    "                                              bins=int(customer_data.Customer_Age.std()),\n",
    "                                              precision=0)"
   ]
  },
  {
   "cell_type": "code",
   "execution_count": 88,
   "id": "0bf94ad0",
   "metadata": {},
   "outputs": [
    {
     "data": {
      "image/png": "[encoded data removed]",
      "text/plain": [
       "<Figure size 432x288 with 1 Axes>"
      ]
     },
     "metadata": {
      "needs_background": "light"
     },
     "output_type": "display_data"
    }
   ],
   "source": [
    "ax = sns.countplot(x=\"Customer_Age_period\", data=customer_data)\n",
    "ax.set_xticklabels(ax.get_xticklabels(), rotation=40, ha=\"right\")\n",
    "plt.tight_layout()"
   ]
  },
  {
   "cell_type": "code",
   "execution_count": 89,
   "id": "f68774f1",
   "metadata": {},
   "outputs": [
    {
     "data": {
      "image/png": "[encoded data removed]",
      "text/plain": [
       "<Figure size 432x288 with 1 Axes>"
      ]
     },
     "metadata": {
      "needs_background": "light"
     },
     "output_type": "display_data"
    }
   ],
   "source": [
    "ax = sns.countplot(x=\"Customer_Age_period\", hue='Gender', data=customer_data, palette=\"spring\")\n",
    "ax.set_xticklabels(ax.get_xticklabels(), rotation=40, ha=\"right\")\n",
    "plt.tight_layout()"
   ]
  },
  {
   "cell_type": "code",
   "execution_count": 90,
   "id": "91021e9b",
   "metadata": {},
   "outputs": [
    {
     "data": {
      "image/png": "[encoded data removed]",
      "text/plain": [
       "<Figure size 432x288 with 1 Axes>"
      ]
     },
     "metadata": {
      "needs_background": "light"
     },
     "output_type": "display_data"
    }
   ],
   "source": [
    "#Ahora relacionamos la nueva variable con nuestra variable target\n",
    "\n",
    "ax = sns.countplot(x=\"Customer_Age_period\", hue='Attrition_Flag', data=customer_data, palette=\"spring\")\n",
    "ax.set_xticklabels(ax.get_xticklabels(), rotation=40, ha=\"right\")\n",
    "plt.tight_layout()"
   ]
  },
  {
   "cell_type": "code",
   "execution_count": null,
   "id": "b726c988",
   "metadata": {},
   "outputs": [],
   "source": [
    "#vamos a realizar el mismo procedimiento con la variable Month on books"
   ]
  },
  {
   "cell_type": "markdown",
   "id": "a544efdf",
   "metadata": {},
   "source": [
    "Podemos concluir que aún agrupando la edad en rangos no resulta una variable que, a primera vista, pueda anticiparnos el comportamiento de nuestra variable target."
   ]
  },
  {
   "cell_type": "code",
   "execution_count": 91,
   "id": "130fdad4",
   "metadata": {},
   "outputs": [
    {
     "name": "stdout",
     "output_type": "stream",
     "text": [
      "Number of unique values for 'Months_on_book' feature: 44\n"
     ]
    },
    {
     "data": {
      "image/png": "[encoded data removed]",
      "text/plain": [
       "<Figure size 432x288 with 1 Axes>"
      ]
     },
     "metadata": {
      "needs_background": "light"
     },
     "output_type": "display_data"
    }
   ],
   "source": [
    "# Ahora construimos y repetimos procedimiento con la variable Month_on_book_Period\n",
    "#y su visualización. La intención es visualizar si los clientes con \n",
    "# mayor antiguedad tienden a abandonar en mayor o menor medida el servicio.\n",
    "\n",
    "print(f\"Number of unique values for 'Months_on_book' feature: {customer_data['Months_on_book'].nunique()}\")\n",
    "customer_data['Months_on_book_Period'] = pd.cut(customer_data['Months_on_book'],\n",
    "                                                bins=int(customer_data['Months_on_book'].std()))\n",
    "ax = sns.countplot(x=\"Months_on_book_Period\", data=customer_data)\n",
    "ax.set_xticklabels(ax.get_xticklabels(), rotation=40, ha=\"right\")\n",
    "plt.tight_layout()"
   ]
  },
  {
   "cell_type": "code",
   "execution_count": 92,
   "id": "70d94bf3",
   "metadata": {},
   "outputs": [
    {
     "name": "stdout",
     "output_type": "stream",
     "text": [
      "Number of unique values for 'Months_on_book' feature: 44\n"
     ]
    },
    {
     "data": {
      "image/png": "[encoded data removed]",
      "text/plain": [
       "<Figure size 432x288 with 1 Axes>"
      ]
     },
     "metadata": {
      "needs_background": "light"
     },
     "output_type": "display_data"
    }
   ],
   "source": [
    "print(f\"Number of unique values for 'Months_on_book' feature: {customer_data['Months_on_book'].nunique()}\")\n",
    "customer_data['Months_on_book_Period'] = pd.cut(customer_data['Months_on_book'],\n",
    "                                                bins=int(customer_data['Months_on_book'].std()))\n",
    "ax = sns.countplot(x=\"Months_on_book_Period\", hue='Attrition_Flag', data=customer_data)\n",
    "ax.set_xticklabels(ax.get_xticklabels(), rotation=40, ha=\"right\")\n",
    "plt.tight_layout()"
   ]
  },
  {
   "cell_type": "markdown",
   "id": "fff579da",
   "metadata": {},
   "source": [
    "Si observamos nuestra variable target relacionada con nuestra nueva variable de rangos de antiguedad, nuevamente observamos que se mantiene la cantidad total de clientes y antiguedad. No parecieda que podemos obtener información valiosa de esta nueva variable."
   ]
  },
  {
   "cell_type": "code",
   "execution_count": 93,
   "id": "c01619fa",
   "metadata": {},
   "outputs": [
    {
     "name": "stdout",
     "output_type": "stream",
     "text": [
      "9 int64 features:\n",
      "['Customer_Age', 'Dependent_count', 'Months_on_book', 'Total_Relationship_Count', 'Months_Inactive_12_mon', 'Contacts_Count_12_mon', 'Total_Revolving_Bal', 'Total_Trans_Amt', 'Total_Trans_Ct']\n",
      "\n",
      "8 Categorical features:\n",
      "['Attrition_Flag', 'Gender', 'Education_Level', 'Marital_Status', 'Income_Category', 'Card_Category', 'Customer_Age_period', 'Months_on_book_Period']\n",
      "\n",
      "5 float64 features:\n",
      "['Credit_Limit', 'Avg_Open_To_Buy', 'Total_Amt_Chng_Q4_Q1', 'Total_Ct_Chng_Q4_Q1', 'Avg_Utilization_Ratio']\n"
     ]
    }
   ],
   "source": [
    "# Una vez más vamos a visualizar el estado actual de nuestras \n",
    "# variables según su tipo.\n",
    "\n",
    "\n",
    "s = (customer_data.dtypes == 'int64')\n",
    "int64_cols = list(s[s].index)\n",
    "print(f\"{len(int64_cols)} int64 features:\\n{int64_cols}\")\n",
    "\n",
    "s = (customer_data.dtypes == 'category')\n",
    "cat_cols = list(s[s].index)\n",
    "print(f\"\\n{len(cat_cols)} Categorical features:\\n{cat_cols}\")\n",
    "\n",
    "s = (customer_data.dtypes == 'float64')\n",
    "float64_cols = list(s[s].index)\n",
    "print(f\"\\n{len(float64_cols)} float64 features:\\n{float64_cols}\")\n",
    "del s"
   ]
  },
  {
   "cell_type": "code",
   "execution_count": 29,
   "id": "73fe97a3",
   "metadata": {},
   "outputs": [
    {
     "name": "stdout",
     "output_type": "stream",
     "text": [
      "<class 'pandas.core.frame.DataFrame'>\n",
      "RangeIndex: 10127 entries, 0 to 10126\n",
      "Data columns (total 8 columns):\n",
      " #   Column                 Non-Null Count  Dtype\n",
      "---  ------                 --------------  -----\n",
      " 0   Attrition_Flag         10127 non-null  int64\n",
      " 1   Gender                 10127 non-null  int64\n",
      " 2   Education_Level        10127 non-null  int64\n",
      " 3   Marital_Status         10127 non-null  int64\n",
      " 4   Income_Category        10127 non-null  int64\n",
      " 5   Card_Category          10127 non-null  int64\n",
      " 6   Customer_Age_period    10127 non-null  int64\n",
      " 7   Months_on_book_Period  10127 non-null  int64\n",
      "dtypes: int64(8)\n",
      "memory usage: 633.1 KB\n"
     ]
    }
   ],
   "source": [
    "# Como habíamos anticipado para poder analizar la correlación de nuestra variable target \n",
    "# con el resto de las variables precisamos que nuestras variables sean numéricas en lugar de categoricas. \n",
    "# Para ello procedemos a transformar las variables categoricas en numéricas.\n",
    "\n",
    "cat_df = customer_data[cat_cols].apply(lambda x : pd.factorize(x)[0])\n",
    "cat_df.info()"
   ]
  },
  {
   "cell_type": "code",
   "execution_count": 94,
   "id": "6f5330fe",
   "metadata": {},
   "outputs": [
    {
     "name": "stdout",
     "output_type": "stream",
     "text": [
      "<class 'pandas.core.frame.DataFrame'>\n",
      "RangeIndex: 10127 entries, 0 to 10126\n",
      "Data columns (total 17 columns):\n",
      " #   Column                    Non-Null Count  Dtype\n",
      "---  ------                    --------------  -----\n",
      " 0   Attrition_Flag            10127 non-null  int64\n",
      " 1   Gender                    10127 non-null  int64\n",
      " 2   Education_Level           10127 non-null  int64\n",
      " 3   Marital_Status            10127 non-null  int64\n",
      " 4   Income_Category           10127 non-null  int64\n",
      " 5   Card_Category             10127 non-null  int64\n",
      " 6   Customer_Age_period       10127 non-null  int64\n",
      " 7   Months_on_book_Period     10127 non-null  int64\n",
      " 8   Customer_Age              10127 non-null  int64\n",
      " 9   Dependent_count           10127 non-null  int64\n",
      " 10  Months_on_book            10127 non-null  int64\n",
      " 11  Total_Relationship_Count  10127 non-null  int64\n",
      " 12  Months_Inactive_12_mon    10127 non-null  int64\n",
      " 13  Contacts_Count_12_mon     10127 non-null  int64\n",
      " 14  Total_Revolving_Bal       10127 non-null  int64\n",
      " 15  Total_Trans_Amt           10127 non-null  int64\n",
      " 16  Total_Trans_Ct            10127 non-null  int64\n",
      "dtypes: int64(17)\n",
      "memory usage: 1.3 MB\n"
     ]
    }
   ],
   "source": [
    "# ahora concatenamos cat_df con int64 para unir linea a linea parte del df \n",
    "# que contienevariables categoricas con la parte que contiene variables de tipo int64\n",
    "# finalmente imprimimos con \"info\" para ver rapidamente la permite examinar rápidamente \n",
    "# la estructura y los tipos de datos en el DataFrame resultante.\n",
    "concat_df = pd.concat([cat_df, customer_data[int64_cols]], axis=1)\n",
    "concat_df.info()"
   ]
  },
  {
   "cell_type": "code",
   "execution_count": 95,
   "id": "fc24e81b",
   "metadata": {},
   "outputs": [
    {
     "data": {
      "text/plain": [
       "<AxesSubplot:>"
      ]
     },
     "execution_count": 95,
     "metadata": {},
     "output_type": "execute_result"
    },
    {
     "data": {
      "image/png": "[encoded data removed]",
      "text/plain": [
       "<Figure size 432x288 with 2 Axes>"
      ]
     },
     "metadata": {
      "needs_background": "light"
     },
     "output_type": "display_data"
    }
   ],
   "source": [
    "# Ahora si podemos utilizar analizar la correlación de nuestras variables\n",
    "# Una de las formas gráficas de observar la correlación es hacer un mapa \n",
    "# de calor.\n",
    "\n",
    "sns.heatmap(concat_df.corr(), cmap='Blues')"
   ]
  },
  {
   "cell_type": "markdown",
   "id": "69297f8a",
   "metadata": {},
   "source": [
    "A simple vista no vemos una correlación fuerte de nuestra variable target con \n",
    "el resto de las variables de nuestro df."
   ]
  },
  {
   "cell_type": "code",
   "execution_count": 34,
   "id": "b43db19d",
   "metadata": {},
   "outputs": [
    {
     "data": {
      "text/plain": [
       "17"
      ]
     },
     "execution_count": 34,
     "metadata": {},
     "output_type": "execute_result"
    }
   ],
   "source": [
    "#visualizamos la cantidad de columnas de nuestro df\n",
    "len(concat_df.columns)"
   ]
  },
  {
   "cell_type": "code",
   "execution_count": 96,
   "id": "d8ce5b0b",
   "metadata": {},
   "outputs": [],
   "source": [
    "# Dado que el mapa de calor no nos evidenció ninguna correlación fuerte\n",
    "# vamos a usar el método de \"chi2_contingency\" para calcular chi2 y \n",
    "# obtener valores p. El valor p es la probabilidad de que nuestra hipótesis nula \n",
    "# sea verdadera. si valor p>0,05, entonces vamos a aceptar la hipótesis (H0). \n",
    "# En nuestro caso la H0 es que nustra variable target es independiente del \n",
    "# resto de las variables\n",
    "\n",
    "from scipy.stats import chi2_contingency\n",
    "factors_paired = [(i,j) for i in concat_df.columns.values for j in concat_df.columns.values] \n",
    "\n",
    "chi2, p_values =[], []\n",
    "\n",
    "for f in factors_paired:\n",
    "\n",
    "    if f[0] != f[1]:\n",
    "        chitest = chi2_contingency(pd.crosstab(concat_df[f[0]], concat_df[f[1]]))   \n",
    "        chi2.append(chitest[0])\n",
    "        p_values.append(chitest[1])\n",
    "    else:      \n",
    "        chi2.append(0)\n",
    "        p_values.append(0)\n",
    "n_features = len(concat_df.columns)\n",
    "chi2 = np.array(chi2).reshape((n_features, n_features))\n",
    "chi2 = pd.DataFrame(chi2, index=concat_df.columns.values, columns=concat_df.columns.values) \n",
    "# El resultado de \"p\" es lo que nos dará información para aceptar o rechazar nuestra hipótesis\n",
    "p_values = np.array(p_values).reshape((n_features, n_features))\n",
    "p_values = pd.DataFrame(p_values, index=concat_df.columns.values, columns=concat_df.columns.values)"
   ]
  },
  {
   "cell_type": "code",
   "execution_count": 97,
   "id": "f548071d",
   "metadata": {},
   "outputs": [
    {
     "data": {
      "text/html": [
       "<div>\n",
       "<style scoped>\n",
       "    .dataframe tbody tr th:only-of-type {\n",
       "        vertical-align: middle;\n",
       "    }\n",
       "\n",
       "    .dataframe tbody tr th {\n",
       "        vertical-align: top;\n",
       "    }\n",
       "\n",
       "    .dataframe thead th {\n",
       "        text-align: right;\n",
       "    }\n",
       "</style>\n",
       "<table border=\"1\" class=\"dataframe\">\n",
       "  <thead>\n",
       "    <tr style=\"text-align: right;\">\n",
       "      <th></th>\n",
       "      <th>Attrition_Flag</th>\n",
       "      <th>Gender</th>\n",
       "      <th>Education_Level</th>\n",
       "      <th>Marital_Status</th>\n",
       "      <th>Income_Category</th>\n",
       "      <th>Card_Category</th>\n",
       "      <th>Customer_Age_period</th>\n",
       "      <th>Months_on_book_Period</th>\n",
       "      <th>Customer_Age</th>\n",
       "      <th>Dependent_count</th>\n",
       "      <th>Months_on_book</th>\n",
       "      <th>Total_Relationship_Count</th>\n",
       "      <th>Months_Inactive_12_mon</th>\n",
       "      <th>Contacts_Count_12_mon</th>\n",
       "      <th>Total_Revolving_Bal</th>\n",
       "      <th>Total_Trans_Amt</th>\n",
       "      <th>Total_Trans_Ct</th>\n",
       "    </tr>\n",
       "  </thead>\n",
       "  <tbody>\n",
       "    <tr>\n",
       "      <th>Attrition_Flag</th>\n",
       "      <td>0.000000</td>\n",
       "      <td>0.000196</td>\n",
       "      <td>0.051489</td>\n",
       "      <td>0.108913</td>\n",
       "      <td>0.025002</td>\n",
       "      <td>5.252383e-01</td>\n",
       "      <td>4.923636e-02</td>\n",
       "      <td>2.933446e-01</td>\n",
       "      <td>2.082918e-02</td>\n",
       "      <td>9.150463e-02</td>\n",
       "      <td>5.742909e-02</td>\n",
       "      <td>2.661050e-59</td>\n",
       "      <td>1.615520e-82</td>\n",
       "      <td>1.776986e-123</td>\n",
       "      <td>1.684903e-38</td>\n",
       "      <td>4.501517e-62</td>\n",
       "      <td>0.000000e+00</td>\n",
       "    </tr>\n",
       "    <tr>\n",
       "      <th>Gender</th>\n",
       "      <td>0.000196</td>\n",
       "      <td>0.000000</td>\n",
       "      <td>0.294979</td>\n",
       "      <td>0.275238</td>\n",
       "      <td>0.000000</td>\n",
       "      <td>3.604858e-16</td>\n",
       "      <td>1.646596e-01</td>\n",
       "      <td>7.247254e-01</td>\n",
       "      <td>2.743267e-01</td>\n",
       "      <td>5.892609e-01</td>\n",
       "      <td>7.214150e-01</td>\n",
       "      <td>4.933136e-01</td>\n",
       "      <td>1.444306e-01</td>\n",
       "      <td>2.576879e-07</td>\n",
       "      <td>6.319001e-01</td>\n",
       "      <td>5.340260e-05</td>\n",
       "      <td>1.231593e-34</td>\n",
       "    </tr>\n",
       "    <tr>\n",
       "      <th>Education_Level</th>\n",
       "      <td>0.051489</td>\n",
       "      <td>0.294979</td>\n",
       "      <td>0.000000</td>\n",
       "      <td>0.254514</td>\n",
       "      <td>0.036553</td>\n",
       "      <td>4.803408e-01</td>\n",
       "      <td>4.549389e-04</td>\n",
       "      <td>3.851147e-01</td>\n",
       "      <td>8.155788e-02</td>\n",
       "      <td>4.647014e-01</td>\n",
       "      <td>4.482955e-01</td>\n",
       "      <td>5.037677e-01</td>\n",
       "      <td>7.923841e-01</td>\n",
       "      <td>9.960346e-01</td>\n",
       "      <td>7.300302e-01</td>\n",
       "      <td>7.041956e-01</td>\n",
       "      <td>7.942810e-01</td>\n",
       "    </tr>\n",
       "    <tr>\n",
       "      <th>Marital_Status</th>\n",
       "      <td>0.108913</td>\n",
       "      <td>0.275238</td>\n",
       "      <td>0.254514</td>\n",
       "      <td>0.000000</td>\n",
       "      <td>0.310785</td>\n",
       "      <td>1.804597e-04</td>\n",
       "      <td>3.049967e-35</td>\n",
       "      <td>2.499087e-08</td>\n",
       "      <td>4.367050e-33</td>\n",
       "      <td>1.098223e-06</td>\n",
       "      <td>2.613670e-04</td>\n",
       "      <td>1.391759e-02</td>\n",
       "      <td>3.563159e-01</td>\n",
       "      <td>3.590232e-01</td>\n",
       "      <td>9.805379e-01</td>\n",
       "      <td>2.560844e-02</td>\n",
       "      <td>7.644927e-21</td>\n",
       "    </tr>\n",
       "    <tr>\n",
       "      <th>Income_Category</th>\n",
       "      <td>0.025002</td>\n",
       "      <td>0.000000</td>\n",
       "      <td>0.036553</td>\n",
       "      <td>0.310785</td>\n",
       "      <td>0.000000</td>\n",
       "      <td>1.210687e-14</td>\n",
       "      <td>5.030799e-48</td>\n",
       "      <td>3.822821e-10</td>\n",
       "      <td>1.209849e-32</td>\n",
       "      <td>2.360305e-14</td>\n",
       "      <td>7.162656e-09</td>\n",
       "      <td>3.224772e-01</td>\n",
       "      <td>4.392186e-02</td>\n",
       "      <td>8.151353e-02</td>\n",
       "      <td>2.181298e-01</td>\n",
       "      <td>6.623665e-04</td>\n",
       "      <td>2.364812e-07</td>\n",
       "    </tr>\n",
       "  </tbody>\n",
       "</table>\n",
       "</div>"
      ],
      "text/plain": [
       "                 Attrition_Flag    Gender  Education_Level  Marital_Status  \\\n",
       "Attrition_Flag         0.000000  0.000196         0.051489        0.108913   \n",
       "Gender                 0.000196  0.000000         0.294979        0.275238   \n",
       "Education_Level        0.051489  0.294979         0.000000        0.254514   \n",
       "Marital_Status         0.108913  0.275238         0.254514        0.000000   \n",
       "Income_Category        0.025002  0.000000         0.036553        0.310785   \n",
       "\n",
       "                 Income_Category  Card_Category  Customer_Age_period  \\\n",
       "Attrition_Flag          0.025002   5.252383e-01         4.923636e-02   \n",
       "Gender                  0.000000   3.604858e-16         1.646596e-01   \n",
       "Education_Level         0.036553   4.803408e-01         4.549389e-04   \n",
       "Marital_Status          0.310785   1.804597e-04         3.049967e-35   \n",
       "Income_Category         0.000000   1.210687e-14         5.030799e-48   \n",
       "\n",
       "                 Months_on_book_Period  Customer_Age  Dependent_count  \\\n",
       "Attrition_Flag            2.933446e-01  2.082918e-02     9.150463e-02   \n",
       "Gender                    7.247254e-01  2.743267e-01     5.892609e-01   \n",
       "Education_Level           3.851147e-01  8.155788e-02     4.647014e-01   \n",
       "Marital_Status            2.499087e-08  4.367050e-33     1.098223e-06   \n",
       "Income_Category           3.822821e-10  1.209849e-32     2.360305e-14   \n",
       "\n",
       "                 Months_on_book  Total_Relationship_Count  \\\n",
       "Attrition_Flag     5.742909e-02              2.661050e-59   \n",
       "Gender             7.214150e-01              4.933136e-01   \n",
       "Education_Level    4.482955e-01              5.037677e-01   \n",
       "Marital_Status     2.613670e-04              1.391759e-02   \n",
       "Income_Category    7.162656e-09              3.224772e-01   \n",
       "\n",
       "                 Months_Inactive_12_mon  Contacts_Count_12_mon  \\\n",
       "Attrition_Flag             1.615520e-82          1.776986e-123   \n",
       "Gender                     1.444306e-01           2.576879e-07   \n",
       "Education_Level            7.923841e-01           9.960346e-01   \n",
       "Marital_Status             3.563159e-01           3.590232e-01   \n",
       "Income_Category            4.392186e-02           8.151353e-02   \n",
       "\n",
       "                 Total_Revolving_Bal  Total_Trans_Amt  Total_Trans_Ct  \n",
       "Attrition_Flag          1.684903e-38     4.501517e-62    0.000000e+00  \n",
       "Gender                  6.319001e-01     5.340260e-05    1.231593e-34  \n",
       "Education_Level         7.300302e-01     7.041956e-01    7.942810e-01  \n",
       "Marital_Status          9.805379e-01     2.560844e-02    7.644927e-21  \n",
       "Income_Category         2.181298e-01     6.623665e-04    2.364812e-07  "
      ]
     },
     "execution_count": 97,
     "metadata": {},
     "output_type": "execute_result"
    }
   ],
   "source": [
    "p_values.head()"
   ]
  },
  {
   "cell_type": "markdown",
   "id": "38d5cde2",
   "metadata": {},
   "source": [
    "Así obtuvimos el valor de chi-cuadrado y los valores p para todas las combinaciones de pares de columnas de nuestro df, lo que nos permite analizar la independencia o dependencia estadística entre esas columnas. \n",
    "En la tabla podemos ver que existe una probabilidad de dependencia entre Attrition_Flag y algunas de las otras características. "
   ]
  },
  {
   "cell_type": "code",
   "execution_count": 98,
   "id": "86555d6c",
   "metadata": {},
   "outputs": [
    {
     "name": "stderr",
     "output_type": "stream",
     "text": [
      "C:\\Users\\HP\\AppData\\Local\\Temp\\ipykernel_11044\\1031729230.py:3: DeprecationWarning: `np.bool` is a deprecated alias for the builtin `bool`. To silence this warning, use `bool` by itself. Doing this will not modify any behavior and is safe. If you specifically wanted the numpy scalar type, use `np.bool_` here.\n",
      "Deprecated in NumPy 1.20; for more details and guidance: https://numpy.org/devdocs/release/1.20.0-notes.html#deprecations\n",
      "  mask = np.triu(np.ones_like(p_values, dtype=np.bool))\n"
     ]
    },
    {
     "data": {
      "image/png": "[encoded data removed]",
      "text/plain": [
       "<Figure size 432x288 with 2 Axes>"
      ]
     },
     "metadata": {
      "needs_background": "light"
     },
     "output_type": "display_data"
    }
   ],
   "source": [
    "# Ahova vamos a graficar los resultados en un nuevo mapa de calor para una \n",
    "# mejor interpretación.\n",
    "mask = np.triu(np.ones_like(p_values, dtype=np.bool))\n",
    "sns.heatmap(1 - p_values, mask=mask, fmt=\".2f\", cmap='Blues',\n",
    "           vmin=0.9, vmax=1, cbar_kws={\"shrink\": .8})\n",
    "\n",
    "plt.yticks(rotation=0)\n",
    "plt.show()"
   ]
  },
  {
   "cell_type": "markdown",
   "id": "8160aef5",
   "metadata": {},
   "source": [
    "Los campos en tonos azul oscuro muestran una correlación fuerte con nuestra variable target."
   ]
  },
  {
   "cell_type": "markdown",
   "id": "9164fff3",
   "metadata": {},
   "source": [
    "Adicionalmente podemos visualizar los valores de 1- p_value, que a medida que asume valores más cercanos a 1, mayor es la probabilidad de dependencia."
   ]
  },
  {
   "cell_type": "code",
   "execution_count": 99,
   "id": "15941e80",
   "metadata": {},
   "outputs": [
    {
     "data": {
      "text/html": [
       "<div>\n",
       "<style scoped>\n",
       "    .dataframe tbody tr th:only-of-type {\n",
       "        vertical-align: middle;\n",
       "    }\n",
       "\n",
       "    .dataframe tbody tr th {\n",
       "        vertical-align: top;\n",
       "    }\n",
       "\n",
       "    .dataframe thead th {\n",
       "        text-align: right;\n",
       "    }\n",
       "</style>\n",
       "<table border=\"1\" class=\"dataframe\">\n",
       "  <thead>\n",
       "    <tr style=\"text-align: right;\">\n",
       "      <th></th>\n",
       "      <th>Attrition_Flag</th>\n",
       "      <th>Gender</th>\n",
       "      <th>Education_Level</th>\n",
       "      <th>Marital_Status</th>\n",
       "      <th>Income_Category</th>\n",
       "      <th>Card_Category</th>\n",
       "      <th>Customer_Age_period</th>\n",
       "      <th>Months_on_book_Period</th>\n",
       "      <th>Customer_Age</th>\n",
       "      <th>Dependent_count</th>\n",
       "      <th>Months_on_book</th>\n",
       "      <th>Total_Relationship_Count</th>\n",
       "      <th>Months_Inactive_12_mon</th>\n",
       "      <th>Contacts_Count_12_mon</th>\n",
       "      <th>Total_Revolving_Bal</th>\n",
       "      <th>Total_Trans_Amt</th>\n",
       "      <th>Total_Trans_Ct</th>\n",
       "    </tr>\n",
       "  </thead>\n",
       "  <tbody>\n",
       "    <tr>\n",
       "      <th>Attrition_Flag</th>\n",
       "      <td>1.000000</td>\n",
       "      <td>0.999804</td>\n",
       "      <td>0.948511</td>\n",
       "      <td>0.891087</td>\n",
       "      <td>0.974998</td>\n",
       "      <td>0.474762</td>\n",
       "      <td>0.950764</td>\n",
       "      <td>0.706655</td>\n",
       "      <td>0.979171</td>\n",
       "      <td>0.908495</td>\n",
       "      <td>0.942571</td>\n",
       "      <td>1.000000</td>\n",
       "      <td>1.000000</td>\n",
       "      <td>1.000000</td>\n",
       "      <td>1.000000</td>\n",
       "      <td>1.000000</td>\n",
       "      <td>1.000000</td>\n",
       "    </tr>\n",
       "    <tr>\n",
       "      <th>Gender</th>\n",
       "      <td>0.999804</td>\n",
       "      <td>1.000000</td>\n",
       "      <td>0.705021</td>\n",
       "      <td>0.724762</td>\n",
       "      <td>1.000000</td>\n",
       "      <td>1.000000</td>\n",
       "      <td>0.835340</td>\n",
       "      <td>0.275275</td>\n",
       "      <td>0.725673</td>\n",
       "      <td>0.410739</td>\n",
       "      <td>0.278585</td>\n",
       "      <td>0.506686</td>\n",
       "      <td>0.855569</td>\n",
       "      <td>1.000000</td>\n",
       "      <td>0.368100</td>\n",
       "      <td>0.999947</td>\n",
       "      <td>1.000000</td>\n",
       "    </tr>\n",
       "    <tr>\n",
       "      <th>Education_Level</th>\n",
       "      <td>0.948511</td>\n",
       "      <td>0.705021</td>\n",
       "      <td>1.000000</td>\n",
       "      <td>0.745486</td>\n",
       "      <td>0.963447</td>\n",
       "      <td>0.519659</td>\n",
       "      <td>0.999545</td>\n",
       "      <td>0.614885</td>\n",
       "      <td>0.918442</td>\n",
       "      <td>0.535299</td>\n",
       "      <td>0.551704</td>\n",
       "      <td>0.496232</td>\n",
       "      <td>0.207616</td>\n",
       "      <td>0.003965</td>\n",
       "      <td>0.269970</td>\n",
       "      <td>0.295804</td>\n",
       "      <td>0.205719</td>\n",
       "    </tr>\n",
       "    <tr>\n",
       "      <th>Marital_Status</th>\n",
       "      <td>0.891087</td>\n",
       "      <td>0.724762</td>\n",
       "      <td>0.745486</td>\n",
       "      <td>1.000000</td>\n",
       "      <td>0.689215</td>\n",
       "      <td>0.999820</td>\n",
       "      <td>1.000000</td>\n",
       "      <td>1.000000</td>\n",
       "      <td>1.000000</td>\n",
       "      <td>0.999999</td>\n",
       "      <td>0.999739</td>\n",
       "      <td>0.986082</td>\n",
       "      <td>0.643684</td>\n",
       "      <td>0.640977</td>\n",
       "      <td>0.019462</td>\n",
       "      <td>0.974392</td>\n",
       "      <td>1.000000</td>\n",
       "    </tr>\n",
       "    <tr>\n",
       "      <th>Income_Category</th>\n",
       "      <td>0.974998</td>\n",
       "      <td>1.000000</td>\n",
       "      <td>0.963447</td>\n",
       "      <td>0.689215</td>\n",
       "      <td>1.000000</td>\n",
       "      <td>1.000000</td>\n",
       "      <td>1.000000</td>\n",
       "      <td>1.000000</td>\n",
       "      <td>1.000000</td>\n",
       "      <td>1.000000</td>\n",
       "      <td>1.000000</td>\n",
       "      <td>0.677523</td>\n",
       "      <td>0.956078</td>\n",
       "      <td>0.918486</td>\n",
       "      <td>0.781870</td>\n",
       "      <td>0.999338</td>\n",
       "      <td>1.000000</td>\n",
       "    </tr>\n",
       "    <tr>\n",
       "      <th>Card_Category</th>\n",
       "      <td>0.474762</td>\n",
       "      <td>1.000000</td>\n",
       "      <td>0.519659</td>\n",
       "      <td>0.999820</td>\n",
       "      <td>1.000000</td>\n",
       "      <td>1.000000</td>\n",
       "      <td>0.995348</td>\n",
       "      <td>0.550699</td>\n",
       "      <td>0.943848</td>\n",
       "      <td>0.942470</td>\n",
       "      <td>0.130411</td>\n",
       "      <td>1.000000</td>\n",
       "      <td>0.345142</td>\n",
       "      <td>0.726325</td>\n",
       "      <td>0.997921</td>\n",
       "      <td>1.000000</td>\n",
       "      <td>1.000000</td>\n",
       "    </tr>\n",
       "    <tr>\n",
       "      <th>Customer_Age_period</th>\n",
       "      <td>0.950764</td>\n",
       "      <td>0.835340</td>\n",
       "      <td>0.999545</td>\n",
       "      <td>1.000000</td>\n",
       "      <td>1.000000</td>\n",
       "      <td>0.995348</td>\n",
       "      <td>1.000000</td>\n",
       "      <td>1.000000</td>\n",
       "      <td>1.000000</td>\n",
       "      <td>1.000000</td>\n",
       "      <td>1.000000</td>\n",
       "      <td>1.000000</td>\n",
       "      <td>1.000000</td>\n",
       "      <td>1.000000</td>\n",
       "      <td>0.831365</td>\n",
       "      <td>0.996773</td>\n",
       "      <td>1.000000</td>\n",
       "    </tr>\n",
       "    <tr>\n",
       "      <th>Months_on_book_Period</th>\n",
       "      <td>0.706655</td>\n",
       "      <td>0.275275</td>\n",
       "      <td>0.614885</td>\n",
       "      <td>1.000000</td>\n",
       "      <td>1.000000</td>\n",
       "      <td>0.550699</td>\n",
       "      <td>1.000000</td>\n",
       "      <td>1.000000</td>\n",
       "      <td>1.000000</td>\n",
       "      <td>1.000000</td>\n",
       "      <td>1.000000</td>\n",
       "      <td>0.859321</td>\n",
       "      <td>1.000000</td>\n",
       "      <td>0.993896</td>\n",
       "      <td>0.434101</td>\n",
       "      <td>0.997590</td>\n",
       "      <td>0.998611</td>\n",
       "    </tr>\n",
       "    <tr>\n",
       "      <th>Customer_Age</th>\n",
       "      <td>0.979171</td>\n",
       "      <td>0.725673</td>\n",
       "      <td>0.918442</td>\n",
       "      <td>1.000000</td>\n",
       "      <td>1.000000</td>\n",
       "      <td>0.943848</td>\n",
       "      <td>1.000000</td>\n",
       "      <td>1.000000</td>\n",
       "      <td>1.000000</td>\n",
       "      <td>1.000000</td>\n",
       "      <td>1.000000</td>\n",
       "      <td>0.999234</td>\n",
       "      <td>1.000000</td>\n",
       "      <td>0.998321</td>\n",
       "      <td>1.000000</td>\n",
       "      <td>0.975677</td>\n",
       "      <td>1.000000</td>\n",
       "    </tr>\n",
       "    <tr>\n",
       "      <th>Dependent_count</th>\n",
       "      <td>0.908495</td>\n",
       "      <td>0.410739</td>\n",
       "      <td>0.535299</td>\n",
       "      <td>0.999999</td>\n",
       "      <td>1.000000</td>\n",
       "      <td>0.942470</td>\n",
       "      <td>1.000000</td>\n",
       "      <td>1.000000</td>\n",
       "      <td>1.000000</td>\n",
       "      <td>1.000000</td>\n",
       "      <td>1.000000</td>\n",
       "      <td>0.988428</td>\n",
       "      <td>0.227206</td>\n",
       "      <td>0.963174</td>\n",
       "      <td>0.959877</td>\n",
       "      <td>0.811796</td>\n",
       "      <td>0.938472</td>\n",
       "    </tr>\n",
       "    <tr>\n",
       "      <th>Months_on_book</th>\n",
       "      <td>0.942571</td>\n",
       "      <td>0.278585</td>\n",
       "      <td>0.551704</td>\n",
       "      <td>0.999739</td>\n",
       "      <td>1.000000</td>\n",
       "      <td>0.130411</td>\n",
       "      <td>1.000000</td>\n",
       "      <td>1.000000</td>\n",
       "      <td>1.000000</td>\n",
       "      <td>1.000000</td>\n",
       "      <td>1.000000</td>\n",
       "      <td>0.745552</td>\n",
       "      <td>1.000000</td>\n",
       "      <td>0.881049</td>\n",
       "      <td>0.094035</td>\n",
       "      <td>1.000000</td>\n",
       "      <td>0.550237</td>\n",
       "    </tr>\n",
       "    <tr>\n",
       "      <th>Total_Relationship_Count</th>\n",
       "      <td>1.000000</td>\n",
       "      <td>0.506686</td>\n",
       "      <td>0.496232</td>\n",
       "      <td>0.986082</td>\n",
       "      <td>0.677523</td>\n",
       "      <td>1.000000</td>\n",
       "      <td>1.000000</td>\n",
       "      <td>0.859321</td>\n",
       "      <td>0.999234</td>\n",
       "      <td>0.988428</td>\n",
       "      <td>0.745552</td>\n",
       "      <td>1.000000</td>\n",
       "      <td>0.350427</td>\n",
       "      <td>1.000000</td>\n",
       "      <td>0.385650</td>\n",
       "      <td>1.000000</td>\n",
       "      <td>1.000000</td>\n",
       "    </tr>\n",
       "    <tr>\n",
       "      <th>Months_Inactive_12_mon</th>\n",
       "      <td>1.000000</td>\n",
       "      <td>0.855569</td>\n",
       "      <td>0.207616</td>\n",
       "      <td>0.643684</td>\n",
       "      <td>0.956078</td>\n",
       "      <td>0.345142</td>\n",
       "      <td>1.000000</td>\n",
       "      <td>1.000000</td>\n",
       "      <td>1.000000</td>\n",
       "      <td>0.227206</td>\n",
       "      <td>1.000000</td>\n",
       "      <td>0.350427</td>\n",
       "      <td>1.000000</td>\n",
       "      <td>0.923063</td>\n",
       "      <td>0.359975</td>\n",
       "      <td>0.000040</td>\n",
       "      <td>0.745067</td>\n",
       "    </tr>\n",
       "    <tr>\n",
       "      <th>Contacts_Count_12_mon</th>\n",
       "      <td>1.000000</td>\n",
       "      <td>1.000000</td>\n",
       "      <td>0.003965</td>\n",
       "      <td>0.640977</td>\n",
       "      <td>0.918486</td>\n",
       "      <td>0.726325</td>\n",
       "      <td>1.000000</td>\n",
       "      <td>0.993896</td>\n",
       "      <td>0.998321</td>\n",
       "      <td>0.963174</td>\n",
       "      <td>0.881049</td>\n",
       "      <td>1.000000</td>\n",
       "      <td>0.923063</td>\n",
       "      <td>1.000000</td>\n",
       "      <td>0.000096</td>\n",
       "      <td>0.998853</td>\n",
       "      <td>1.000000</td>\n",
       "    </tr>\n",
       "    <tr>\n",
       "      <th>Total_Revolving_Bal</th>\n",
       "      <td>1.000000</td>\n",
       "      <td>0.368100</td>\n",
       "      <td>0.269970</td>\n",
       "      <td>0.019462</td>\n",
       "      <td>0.781870</td>\n",
       "      <td>0.997921</td>\n",
       "      <td>0.831365</td>\n",
       "      <td>0.434101</td>\n",
       "      <td>1.000000</td>\n",
       "      <td>0.959877</td>\n",
       "      <td>0.094035</td>\n",
       "      <td>0.385650</td>\n",
       "      <td>0.359975</td>\n",
       "      <td>0.000096</td>\n",
       "      <td>1.000000</td>\n",
       "      <td>0.000000</td>\n",
       "      <td>0.003520</td>\n",
       "    </tr>\n",
       "    <tr>\n",
       "      <th>Total_Trans_Amt</th>\n",
       "      <td>1.000000</td>\n",
       "      <td>0.999947</td>\n",
       "      <td>0.295804</td>\n",
       "      <td>0.974392</td>\n",
       "      <td>0.999338</td>\n",
       "      <td>1.000000</td>\n",
       "      <td>0.996773</td>\n",
       "      <td>0.997590</td>\n",
       "      <td>0.975677</td>\n",
       "      <td>0.811796</td>\n",
       "      <td>1.000000</td>\n",
       "      <td>1.000000</td>\n",
       "      <td>0.000040</td>\n",
       "      <td>0.998853</td>\n",
       "      <td>0.000000</td>\n",
       "      <td>1.000000</td>\n",
       "      <td>1.000000</td>\n",
       "    </tr>\n",
       "    <tr>\n",
       "      <th>Total_Trans_Ct</th>\n",
       "      <td>1.000000</td>\n",
       "      <td>1.000000</td>\n",
       "      <td>0.205719</td>\n",
       "      <td>1.000000</td>\n",
       "      <td>1.000000</td>\n",
       "      <td>1.000000</td>\n",
       "      <td>1.000000</td>\n",
       "      <td>0.998611</td>\n",
       "      <td>1.000000</td>\n",
       "      <td>0.938472</td>\n",
       "      <td>0.550237</td>\n",
       "      <td>1.000000</td>\n",
       "      <td>0.745067</td>\n",
       "      <td>1.000000</td>\n",
       "      <td>0.003520</td>\n",
       "      <td>1.000000</td>\n",
       "      <td>1.000000</td>\n",
       "    </tr>\n",
       "  </tbody>\n",
       "</table>\n",
       "</div>"
      ],
      "text/plain": [
       "                          Attrition_Flag    Gender  Education_Level  \\\n",
       "Attrition_Flag                  1.000000  0.999804         0.948511   \n",
       "Gender                          0.999804  1.000000         0.705021   \n",
       "Education_Level                 0.948511  0.705021         1.000000   \n",
       "Marital_Status                  0.891087  0.724762         0.745486   \n",
       "Income_Category                 0.974998  1.000000         0.963447   \n",
       "Card_Category                   0.474762  1.000000         0.519659   \n",
       "Customer_Age_period             0.950764  0.835340         0.999545   \n",
       "Months_on_book_Period           0.706655  0.275275         0.614885   \n",
       "Customer_Age                    0.979171  0.725673         0.918442   \n",
       "Dependent_count                 0.908495  0.410739         0.535299   \n",
       "Months_on_book                  0.942571  0.278585         0.551704   \n",
       "Total_Relationship_Count        1.000000  0.506686         0.496232   \n",
       "Months_Inactive_12_mon          1.000000  0.855569         0.207616   \n",
       "Contacts_Count_12_mon           1.000000  1.000000         0.003965   \n",
       "Total_Revolving_Bal             1.000000  0.368100         0.269970   \n",
       "Total_Trans_Amt                 1.000000  0.999947         0.295804   \n",
       "Total_Trans_Ct                  1.000000  1.000000         0.205719   \n",
       "\n",
       "                          Marital_Status  Income_Category  Card_Category  \\\n",
       "Attrition_Flag                  0.891087         0.974998       0.474762   \n",
       "Gender                          0.724762         1.000000       1.000000   \n",
       "Education_Level                 0.745486         0.963447       0.519659   \n",
       "Marital_Status                  1.000000         0.689215       0.999820   \n",
       "Income_Category                 0.689215         1.000000       1.000000   \n",
       "Card_Category                   0.999820         1.000000       1.000000   \n",
       "Customer_Age_period             1.000000         1.000000       0.995348   \n",
       "Months_on_book_Period           1.000000         1.000000       0.550699   \n",
       "Customer_Age                    1.000000         1.000000       0.943848   \n",
       "Dependent_count                 0.999999         1.000000       0.942470   \n",
       "Months_on_book                  0.999739         1.000000       0.130411   \n",
       "Total_Relationship_Count        0.986082         0.677523       1.000000   \n",
       "Months_Inactive_12_mon          0.643684         0.956078       0.345142   \n",
       "Contacts_Count_12_mon           0.640977         0.918486       0.726325   \n",
       "Total_Revolving_Bal             0.019462         0.781870       0.997921   \n",
       "Total_Trans_Amt                 0.974392         0.999338       1.000000   \n",
       "Total_Trans_Ct                  1.000000         1.000000       1.000000   \n",
       "\n",
       "                          Customer_Age_period  Months_on_book_Period  \\\n",
       "Attrition_Flag                       0.950764               0.706655   \n",
       "Gender                               0.835340               0.275275   \n",
       "Education_Level                      0.999545               0.614885   \n",
       "Marital_Status                       1.000000               1.000000   \n",
       "Income_Category                      1.000000               1.000000   \n",
       "Card_Category                        0.995348               0.550699   \n",
       "Customer_Age_period                  1.000000               1.000000   \n",
       "Months_on_book_Period                1.000000               1.000000   \n",
       "Customer_Age                         1.000000               1.000000   \n",
       "Dependent_count                      1.000000               1.000000   \n",
       "Months_on_book                       1.000000               1.000000   \n",
       "Total_Relationship_Count             1.000000               0.859321   \n",
       "Months_Inactive_12_mon               1.000000               1.000000   \n",
       "Contacts_Count_12_mon                1.000000               0.993896   \n",
       "Total_Revolving_Bal                  0.831365               0.434101   \n",
       "Total_Trans_Amt                      0.996773               0.997590   \n",
       "Total_Trans_Ct                       1.000000               0.998611   \n",
       "\n",
       "                          Customer_Age  Dependent_count  Months_on_book  \\\n",
       "Attrition_Flag                0.979171         0.908495        0.942571   \n",
       "Gender                        0.725673         0.410739        0.278585   \n",
       "Education_Level               0.918442         0.535299        0.551704   \n",
       "Marital_Status                1.000000         0.999999        0.999739   \n",
       "Income_Category               1.000000         1.000000        1.000000   \n",
       "Card_Category                 0.943848         0.942470        0.130411   \n",
       "Customer_Age_period           1.000000         1.000000        1.000000   \n",
       "Months_on_book_Period         1.000000         1.000000        1.000000   \n",
       "Customer_Age                  1.000000         1.000000        1.000000   \n",
       "Dependent_count               1.000000         1.000000        1.000000   \n",
       "Months_on_book                1.000000         1.000000        1.000000   \n",
       "Total_Relationship_Count      0.999234         0.988428        0.745552   \n",
       "Months_Inactive_12_mon        1.000000         0.227206        1.000000   \n",
       "Contacts_Count_12_mon         0.998321         0.963174        0.881049   \n",
       "Total_Revolving_Bal           1.000000         0.959877        0.094035   \n",
       "Total_Trans_Amt               0.975677         0.811796        1.000000   \n",
       "Total_Trans_Ct                1.000000         0.938472        0.550237   \n",
       "\n",
       "                          Total_Relationship_Count  Months_Inactive_12_mon  \\\n",
       "Attrition_Flag                            1.000000                1.000000   \n",
       "Gender                                    0.506686                0.855569   \n",
       "Education_Level                           0.496232                0.207616   \n",
       "Marital_Status                            0.986082                0.643684   \n",
       "Income_Category                           0.677523                0.956078   \n",
       "Card_Category                             1.000000                0.345142   \n",
       "Customer_Age_period                       1.000000                1.000000   \n",
       "Months_on_book_Period                     0.859321                1.000000   \n",
       "Customer_Age                              0.999234                1.000000   \n",
       "Dependent_count                           0.988428                0.227206   \n",
       "Months_on_book                            0.745552                1.000000   \n",
       "Total_Relationship_Count                  1.000000                0.350427   \n",
       "Months_Inactive_12_mon                    0.350427                1.000000   \n",
       "Contacts_Count_12_mon                     1.000000                0.923063   \n",
       "Total_Revolving_Bal                       0.385650                0.359975   \n",
       "Total_Trans_Amt                           1.000000                0.000040   \n",
       "Total_Trans_Ct                            1.000000                0.745067   \n",
       "\n",
       "                          Contacts_Count_12_mon  Total_Revolving_Bal  \\\n",
       "Attrition_Flag                         1.000000             1.000000   \n",
       "Gender                                 1.000000             0.368100   \n",
       "Education_Level                        0.003965             0.269970   \n",
       "Marital_Status                         0.640977             0.019462   \n",
       "Income_Category                        0.918486             0.781870   \n",
       "Card_Category                          0.726325             0.997921   \n",
       "Customer_Age_period                    1.000000             0.831365   \n",
       "Months_on_book_Period                  0.993896             0.434101   \n",
       "Customer_Age                           0.998321             1.000000   \n",
       "Dependent_count                        0.963174             0.959877   \n",
       "Months_on_book                         0.881049             0.094035   \n",
       "Total_Relationship_Count               1.000000             0.385650   \n",
       "Months_Inactive_12_mon                 0.923063             0.359975   \n",
       "Contacts_Count_12_mon                  1.000000             0.000096   \n",
       "Total_Revolving_Bal                    0.000096             1.000000   \n",
       "Total_Trans_Amt                        0.998853             0.000000   \n",
       "Total_Trans_Ct                         1.000000             0.003520   \n",
       "\n",
       "                          Total_Trans_Amt  Total_Trans_Ct  \n",
       "Attrition_Flag                   1.000000        1.000000  \n",
       "Gender                           0.999947        1.000000  \n",
       "Education_Level                  0.295804        0.205719  \n",
       "Marital_Status                   0.974392        1.000000  \n",
       "Income_Category                  0.999338        1.000000  \n",
       "Card_Category                    1.000000        1.000000  \n",
       "Customer_Age_period              0.996773        1.000000  \n",
       "Months_on_book_Period            0.997590        0.998611  \n",
       "Customer_Age                     0.975677        1.000000  \n",
       "Dependent_count                  0.811796        0.938472  \n",
       "Months_on_book                   1.000000        0.550237  \n",
       "Total_Relationship_Count         1.000000        1.000000  \n",
       "Months_Inactive_12_mon           0.000040        0.745067  \n",
       "Contacts_Count_12_mon            0.998853        1.000000  \n",
       "Total_Revolving_Bal              0.000000        0.003520  \n",
       "Total_Trans_Amt                  1.000000        1.000000  \n",
       "Total_Trans_Ct                   1.000000        1.000000  "
      ]
     },
     "execution_count": 99,
     "metadata": {},
     "output_type": "execute_result"
    }
   ],
   "source": [
    "1 - p_values"
   ]
  },
  {
   "cell_type": "markdown",
   "id": "250d95ab",
   "metadata": {},
   "source": [
    "Podemos ver, por ejemplo, que la variable Customer_Age tiene una probabilidad de 0,979 de ser dependiente de nuestra variable target, mientras que Customer_Age_period solo tiene 0,95. Con este análisis podemos descartar la variable creada y seguir trabajando con la variable Customer_Age.\n",
    "Por otro lado el género y las siguientes variables tienen una dependencia alta a nuestra variable target:Months_Inactive_12_mon, Montacts_Count_12_mon,Total_Revolving_Bal,Total_Trans_Amt,Total_Trans_Ct"
   ]
  },
  {
   "cell_type": "markdown",
   "id": "18995287",
   "metadata": {},
   "source": [
    "Ahora vamos ejecutar algunos modelos predictivos de nuestra variable target y vamos a evaluar su eficacia a través del método RUC."
   ]
  },
  {
   "cell_type": "code",
   "execution_count": 100,
   "id": "66d7f0c1",
   "metadata": {},
   "outputs": [],
   "source": [
    "#Primero vamos a agrupar nuestra variables en conjunto de datos:\n",
    "\n",
    "column_to_drop = ['Attrition_Flag',\n",
    "                  'Card_Category',\n",
    "                  'Dependent_count',\n",
    "                  'Customer_Age_period',\n",
    "                  'Months_on_book_Period',\n",
    "                  'Marital_Status']\n",
    "\n",
    "column_to_drop_2nd_try = ['Attrition_Flag',\n",
    "                          'Card_Category',\n",
    "                          'Dependent_count',\n",
    "                          'Customer_Age',\n",
    "                          'Months_on_book',\n",
    "                          'Marital_Status']\n",
    "\n",
    "ordinal_cols = ['Income_Category', 'Education_Level']\n",
    "nominal_cols = ['Gender']\n",
    "cols_to_scale = ['Customer_Age',\n",
    "                'Months_on_book',\n",
    "                'Total_Revolving_Bal',\n",
    "                'Total_Trans_Amt',\n",
    "                'Total_Trans_Ct',\n",
    "                'Credit_Limit',\n",
    "                'Avg_Open_To_Buy']\n",
    " "
   ]
  },
  {
   "cell_type": "code",
   "execution_count": 101,
   "id": "96fed503",
   "metadata": {},
   "outputs": [],
   "source": [
    "#Importamos librerías relevantes para ejecutar los modelos\n",
    "\n",
    "from sklearn import set_config\n",
    "from sklearn.impute import SimpleImputer\n",
    "from sklearn.pipeline import Pipeline, make_pipeline\n",
    "from sklearn.preprocessing import StandardScaler, MinMaxScaler, OrdinalEncoder, OneHotEncoder\n",
    "from sklearn.compose import make_column_transformer, ColumnTransformer\n",
    "from sklearn.model_selection import train_test_split\n",
    "\n",
    "set_config(display='diagram')"
   ]
  },
  {
   "cell_type": "code",
   "execution_count": 102,
   "id": "87bd4bce",
   "metadata": {},
   "outputs": [],
   "source": [
    "#Reemplazamos los valores desconocidos con la estrategia de reemplazarlos por el valor más frecuente\n",
    "\n",
    "imp_enc = SimpleImputer(missing_values='Unknown', strategy='most_frequent')\n",
    "\n",
    "ord_enc = OrdinalEncoder(categories=[\n",
    "                ['Less than $40K', '$40K - $60K', '$60K - $80K', '$80K - $120K', '$120K +'],\n",
    "                ['Uneducated', 'High School', 'College', 'Graduate', 'Post-Graduate', 'Doctorate']])\n",
    "\n",
    "one_hot_enc = OneHotEncoder(handle_unknown='error', drop='if_binary')\n",
    "\n",
    "target_enc = OneHotEncoder(categories=[['Attrited Customer', 'Existing Customer']], \n",
    "                           handle_unknown='error', \n",
    "                           drop='if_binary',\n",
    "                           sparse=False)\n",
    "\n",
    "ordinal_transformer = Pipeline(steps=[('unknown_imp', imp_enc), ('ordinal', ord_enc)])\n",
    "\n",
    "numeric_transformer = Pipeline(steps=[('num_imp', SimpleImputer(strategy='median')),\n",
    "                                      ('scaler', StandardScaler())])\n",
    "\n",
    "nominal_transformer = Pipeline(steps=[('unknown_imp', imp_enc), ('one_hot', one_hot_enc)])\n",
    "\n",
    "preprocessor = make_column_transformer((ordinal_transformer, ordinal_cols),\n",
    "                                       (nominal_transformer, nominal_cols),\n",
    "                                       (numeric_transformer, cols_to_scale),\n",
    "                                        remainder = 'passthrough') "
   ]
  },
  {
   "cell_type": "code",
   "execution_count": 103,
   "id": "86619092",
   "metadata": {},
   "outputs": [],
   "source": [
    "customer_data_to_fit = customer_data.drop(columns=column_to_drop )"
   ]
  },
  {
   "cell_type": "code",
   "execution_count": 104,
   "id": "748f0c7c",
   "metadata": {},
   "outputs": [],
   "source": [
    "# separamos con la técnica de train and test parte de nuestra base\n",
    "\n",
    "X_train, X_test, y_train, y_test = train_test_split(customer_data_to_fit,\n",
    "                                                    target_enc.fit_transform(customer_data[['Attrition_Flag']]).ravel(),\n",
    "                                                    test_size=0.3,\n",
    "                                                    random_state=42, \n",
    "                                                    stratify=target_enc.fit_transform(customer_data[['Attrition_Flag']]).ravel())"
   ]
  },
  {
   "cell_type": "code",
   "execution_count": 105,
   "id": "9f0a909f",
   "metadata": {},
   "outputs": [],
   "source": [
    "import numpy as np\n",
    "import matplotlib.pyplot as plt\n",
    "from matplotlib.colors import ListedColormap\n",
    "\n",
    "\n",
    "from sklearn.svm import SVC\n",
    "from sklearn.tree import DecisionTreeClassifier\n",
    "from sklearn.ensemble import RandomForestClassifier, AdaBoostClassifier\n",
    "from sklearn.naive_bayes import GaussianNB, CategoricalNB, BernoulliNB\n",
    "from sklearn.linear_model import LogisticRegression\n",
    "import matplotlib.pyplot as plt\n",
    "from sklearn.metrics import confusion_matrix\n",
    "from sklearn.metrics import accuracy_score\n",
    "from sklearn.metrics import classification_report\n",
    "from sklearn.metrics import ConfusionMatrixDisplay\n",
    "from sklearn.metrics import plot_roc_curve\n",
    "classifiers = [\n",
    "    SVC(C=0.025),\n",
    "    DecisionTreeClassifier(max_depth=5),\n",
    "    RandomForestClassifier(max_depth=5),\n",
    "    AdaBoostClassifier(),\n",
    "    GaussianNB(),\n",
    "    BernoulliNB(),\n",
    "    LogisticRegression()]"
   ]
  },
  {
   "cell_type": "code",
   "execution_count": 107,
   "id": "3c7cd646",
   "metadata": {},
   "outputs": [
    {
     "name": "stderr",
     "output_type": "stream",
     "text": [
      "C:\\Users\\HP\\anaconda3\\lib\\site-packages\\sklearn\\utils\\deprecation.py:87: FutureWarning: Function plot_roc_curve is deprecated; Function :func:`plot_roc_curve` is deprecated in 1.0 and will be removed in 1.2. Use one of the class methods: :meth:`sklearn.metric.RocCurveDisplay.from_predictions` or :meth:`sklearn.metric.RocCurveDisplay.from_estimator`.\n",
      "  warnings.warn(msg, category=FutureWarning)\n",
      "C:\\Users\\HP\\anaconda3\\lib\\site-packages\\sklearn\\utils\\deprecation.py:87: FutureWarning: Function plot_roc_curve is deprecated; Function :func:`plot_roc_curve` is deprecated in 1.0 and will be removed in 1.2. Use one of the class methods: :meth:`sklearn.metric.RocCurveDisplay.from_predictions` or :meth:`sklearn.metric.RocCurveDisplay.from_estimator`.\n",
      "  warnings.warn(msg, category=FutureWarning)\n",
      "C:\\Users\\HP\\anaconda3\\lib\\site-packages\\sklearn\\utils\\deprecation.py:87: FutureWarning: Function plot_roc_curve is deprecated; Function :func:`plot_roc_curve` is deprecated in 1.0 and will be removed in 1.2. Use one of the class methods: :meth:`sklearn.metric.RocCurveDisplay.from_predictions` or :meth:`sklearn.metric.RocCurveDisplay.from_estimator`.\n",
      "  warnings.warn(msg, category=FutureWarning)\n",
      "C:\\Users\\HP\\anaconda3\\lib\\site-packages\\sklearn\\utils\\deprecation.py:87: FutureWarning: Function plot_roc_curve is deprecated; Function :func:`plot_roc_curve` is deprecated in 1.0 and will be removed in 1.2. Use one of the class methods: :meth:`sklearn.metric.RocCurveDisplay.from_predictions` or :meth:`sklearn.metric.RocCurveDisplay.from_estimator`.\n",
      "  warnings.warn(msg, category=FutureWarning)\n",
      "C:\\Users\\HP\\anaconda3\\lib\\site-packages\\sklearn\\utils\\deprecation.py:87: FutureWarning: Function plot_roc_curve is deprecated; Function :func:`plot_roc_curve` is deprecated in 1.0 and will be removed in 1.2. Use one of the class methods: :meth:`sklearn.metric.RocCurveDisplay.from_predictions` or :meth:`sklearn.metric.RocCurveDisplay.from_estimator`.\n",
      "  warnings.warn(msg, category=FutureWarning)\n",
      "C:\\Users\\HP\\anaconda3\\lib\\site-packages\\sklearn\\utils\\deprecation.py:87: FutureWarning: Function plot_roc_curve is deprecated; Function :func:`plot_roc_curve` is deprecated in 1.0 and will be removed in 1.2. Use one of the class methods: :meth:`sklearn.metric.RocCurveDisplay.from_predictions` or :meth:`sklearn.metric.RocCurveDisplay.from_estimator`.\n",
      "  warnings.warn(msg, category=FutureWarning)\n",
      "C:\\Users\\HP\\anaconda3\\lib\\site-packages\\sklearn\\utils\\deprecation.py:87: FutureWarning: Function plot_roc_curve is deprecated; Function :func:`plot_roc_curve` is deprecated in 1.0 and will be removed in 1.2. Use one of the class methods: :meth:`sklearn.metric.RocCurveDisplay.from_predictions` or :meth:`sklearn.metric.RocCurveDisplay.from_estimator`.\n",
      "  warnings.warn(msg, category=FutureWarning)\n"
     ]
    },
    {
     "data": {
      "image/png": "[encoded data removed]",
      "text/plain": [
       "<Figure size 432x288 with 1 Axes>"
      ]
     },
     "metadata": {
      "needs_background": "light"
     },
     "output_type": "display_data"
    }
   ],
   "source": [
    "fig, ax = plt.subplots()\n",
    "\n",
    "x_train_preprocessed = preprocessor.fit_transform(X_train)\n",
    "x_test_preprocessed = preprocessor.transform(X_test)\n",
    "model_displays = {}\n",
    "for clf in classifiers:\n",
    "    clf.fit(x_train_preprocessed, y_train)\n",
    "    name = type(clf).__name__\n",
    "    model_displays[type(clf).__name__] = plot_roc_curve(\n",
    "        clf, x_test_preprocessed, y_test, ax=ax, name=name)\n",
    "_ = ax.set_title('ROC curve')"
   ]
  },
  {
   "cell_type": "code",
   "execution_count": 108,
   "id": "05d15fe1",
   "metadata": {},
   "outputs": [
    {
     "name": "stdout",
     "output_type": "stream",
     "text": [
      "\n",
      "SVC:\n",
      "                   precision    recall  f1-score   support\n",
      "\n",
      "Existing Customer       1.00      0.00      0.01       488\n",
      "Attrited Customer       0.84      1.00      0.91      2551\n",
      "\n",
      "         accuracy                           0.84      3039\n",
      "        macro avg       0.92      0.50      0.46      3039\n",
      "     weighted avg       0.87      0.84      0.77      3039\n",
      "\n",
      "[[   2  486]\n",
      " [   0 2551]]\n",
      "\n",
      "DecisionTreeClassifier:\n",
      "                   precision    recall  f1-score   support\n",
      "\n",
      "Existing Customer       0.80      0.80      0.80       488\n",
      "Attrited Customer       0.96      0.96      0.96      2551\n",
      "\n",
      "         accuracy                           0.94      3039\n",
      "        macro avg       0.88      0.88      0.88      3039\n",
      "     weighted avg       0.94      0.94      0.94      3039\n",
      "\n",
      "[[ 390   98]\n",
      " [  95 2456]]\n",
      "\n",
      "RandomForestClassifier:\n",
      "                   precision    recall  f1-score   support\n",
      "\n",
      "Existing Customer       0.86      0.53      0.66       488\n",
      "Attrited Customer       0.92      0.98      0.95      2551\n",
      "\n",
      "         accuracy                           0.91      3039\n",
      "        macro avg       0.89      0.76      0.81      3039\n",
      "     weighted avg       0.91      0.91      0.90      3039\n",
      "\n",
      "[[ 261  227]\n",
      " [  41 2510]]\n",
      "\n",
      "AdaBoostClassifier:\n",
      "                   precision    recall  f1-score   support\n",
      "\n",
      "Existing Customer       0.88      0.81      0.84       488\n",
      "Attrited Customer       0.96      0.98      0.97      2551\n",
      "\n",
      "         accuracy                           0.95      3039\n",
      "        macro avg       0.92      0.90      0.91      3039\n",
      "     weighted avg       0.95      0.95      0.95      3039\n",
      "\n",
      "[[ 396   92]\n",
      " [  54 2497]]\n",
      "\n",
      "LogisticRegression:\n",
      "                   precision    recall  f1-score   support\n",
      "\n",
      "Existing Customer       0.75      0.55      0.63       488\n",
      "Attrited Customer       0.92      0.96      0.94      2551\n",
      "\n",
      "         accuracy                           0.90      3039\n",
      "        macro avg       0.83      0.76      0.79      3039\n",
      "     weighted avg       0.89      0.90      0.89      3039\n",
      "\n",
      "[[ 267  221]\n",
      " [  90 2461]]\n"
     ]
    }
   ],
   "source": [
    "# Analizamos la eficacia de los modelos ejecutados a \n",
    "# través de la matriz de confusión:\n",
    "\n",
    "potential_model = ['SVC', 'DecisionTreeClassifier', 'RandomForestClassifier', 'AdaBoostClassifier', 'LogisticRegression']\n",
    "for clf in classifiers:\n",
    "    name = type(clf).__name__\n",
    "    if name in potential_model:\n",
    "        predictions =clf.predict(x_test_preprocessed)\n",
    "        cm = confusion_matrix(y_test, predictions, labels=clf.classes_)\n",
    "        cr = classification_report(y_true=y_test, \n",
    "                                   y_pred=predictions,\n",
    "                                   target_names=['Existing Customer', 'Attrited Customer'])\n",
    "        disp = ConfusionMatrixDisplay(confusion_matrix=cm, display_labels=clf.classes_)\n",
    "        print(f\"\\n{name}:\\n{cr}\")\n",
    "        print(f\"{cm}\")"
   ]
  },
  {
   "cell_type": "code",
   "execution_count": null,
   "id": "8f7b55ad",
   "metadata": {},
   "outputs": [],
   "source": [
    "# El mejor clasificador es AdaBoost con *precisión = 0.88, recall = 0.82, \n",
    "# F1 = 0.85 y es consistente con la métrica AUC - 0.98 en el ROC anterior"
   ]
  },
  {
   "cell_type": "markdown",
   "id": "bb775a8a",
   "metadata": {},
   "source": [
    "SVC (Support Vector Classifier):\n",
    "\n",
    "Precision: Para la clase \"Existing Customer\" es muy baja (0.00), lo que significa que prácticamente todas las predicciones positivas para esta clase son incorrectas. Para la clase \"Attrited Customer\" es más alta (0.84), lo que indica que muchas de las predicciones positivas son correctas.\n",
    "\n",
    "Recall: Para la clase \"Existing Customer\" es muy baja (0.00), lo que significa que el modelo no está capturando la mayoría de las instancias de esta clase. Para la clase \"Attrited Customer\" es alta (1.00), lo que significa que el modelo captura la mayoría de las instancias de esta clase.\n",
    "\n",
    "F1-Score: El F1-score es bajo para \"Existing Customer\" (0.01) debido a la baja precisión y recall, mientras que es alto para \"Attrited Customer\" (0.91).\n",
    "\n",
    "Accuracy: La precisión global del modelo es del 0.84, lo que indica que el 84% de las predicciones son correctas en el conjunto de datos.\n",
    "\n",
    "Matriz de confusión: Muestra que el modelo predijo 2 instancias correctamente para \"Existing Customer\" y 2551 instancias correctamente para \"Attrited Customer\".\n",
    "\n",
    "DecisionTreeClassifier:\n",
    "Las métricas de precisión, recall, F1-score y accuracy son más altas que las del modelo SVC. Esto indica un mejor rendimiento en general.\n",
    "\n",
    "La matriz de confusión muestra que el modelo hizo 390 predicciones correctas para \"Existing Customer\" y 2456 predicciones correctas para \"Attrited Customer\".\n",
    "\n",
    "RandomForestClassifier: Las métricas son mejores en comparación con SVC, pero ligeramente más bajas que las del DecisionTreeClassifier. La matriz de confusión muestra que el modelo hizo 261 predicciones correctas para \"Existing Customer\" y 2514 predicciones correctas para \"Attrited Customer\".\n",
    "\n",
    "AdaBoostClassifier:\n",
    "Las métricas son similares a las del RandomForestClassifier y son bastante buenas.\n",
    "La matriz de confusión muestra que el modelo hizo 396 predicciones correctas para \"Existing Customer\" y 2497 predicciones correctas para \"Attrited Customer\".\n",
    "LogisticRegression:\n",
    "\n",
    "Las métricas son razonablemente buenas, pero ligeramente inferiores a las del DecisionTreeClassifier y AdaBoostClassifier. La matriz de confusión muestra que el modelo hizo 267 predicciones correctas para \"Existing Customer\" y 2461 predicciones correctas para \"Attrited Customer\".\n",
    "\n",
    "En resumen, estas métricas proporcionan una visión detallada del rendimiento de diferentes modelos de clasificación. Nosotros elegiremos el modelo de AdaBoostClassifier dado que tiene una precision = 0.88, recall = 0.82, F1 = 0.85.\n",
    "\n",
    "\n",
    "\n",
    "\n"
   ]
  },
  {
   "cell_type": "markdown",
   "id": "cb29a2c7",
   "metadata": {},
   "source": [
    "# Anexo I: TRAIN & TEST"
   ]
  },
  {
   "cell_type": "code",
   "execution_count": 109,
   "id": "4a9b0672",
   "metadata": {},
   "outputs": [],
   "source": [
    "cantidad_registros = customer_data.shape[0]\n",
    "semilla = 15\n",
    "np.random.seed(semilla)\n",
    "serie_random = np.random.rand(cantidad_registros)\n",
    "customer_data['TRAIN'] = np.where(serie_random < 0.3, 0, 1)"
   ]
  },
  {
   "cell_type": "code",
   "execution_count": 110,
   "id": "76ef644f",
   "metadata": {},
   "outputs": [],
   "source": [
    "import pandas as pd\n",
    "from sklearn.preprocessing import LabelEncoder\n",
    "\n",
    "# Suponiendo que ya tienes un DataFrame llamado 'customer_data'\n",
    "label_encoder = LabelEncoder()\n",
    "customer_data['Attrition_Flag'] = label_encoder.fit_transform(customer_data['Attrition_Flag'])\n",
    "customer_data['Education_Level'] = label_encoder.fit_transform(customer_data['Education_Level'])\n",
    "customer_data['Gender'] = label_encoder.fit_transform(customer_data['Gender'])\n",
    "customer_data['Marital_Status'] = label_encoder.fit_transform(customer_data['Marital_Status'])\n",
    "customer_data['Income_Category'] = label_encoder.fit_transform(customer_data['Income_Category'])\n",
    "customer_data['Card_Category'] = label_encoder.fit_transform(customer_data['Card_Category'])"
   ]
  },
  {
   "cell_type": "code",
   "execution_count": 111,
   "id": "5727550f",
   "metadata": {},
   "outputs": [
    {
     "data": {
      "text/html": [
       "<div>\n",
       "<style scoped>\n",
       "    .dataframe tbody tr th:only-of-type {\n",
       "        vertical-align: middle;\n",
       "    }\n",
       "\n",
       "    .dataframe tbody tr th {\n",
       "        vertical-align: top;\n",
       "    }\n",
       "\n",
       "    .dataframe thead th {\n",
       "        text-align: right;\n",
       "    }\n",
       "</style>\n",
       "<table border=\"1\" class=\"dataframe\">\n",
       "  <thead>\n",
       "    <tr style=\"text-align: right;\">\n",
       "      <th></th>\n",
       "      <th>Attrition_Flag</th>\n",
       "      <th>Customer_Age</th>\n",
       "      <th>Gender</th>\n",
       "      <th>Dependent_count</th>\n",
       "      <th>Education_Level</th>\n",
       "      <th>Marital_Status</th>\n",
       "      <th>Income_Category</th>\n",
       "      <th>Card_Category</th>\n",
       "      <th>Months_on_book</th>\n",
       "      <th>Total_Relationship_Count</th>\n",
       "      <th>...</th>\n",
       "      <th>Total_Revolving_Bal</th>\n",
       "      <th>Avg_Open_To_Buy</th>\n",
       "      <th>Total_Amt_Chng_Q4_Q1</th>\n",
       "      <th>Total_Trans_Amt</th>\n",
       "      <th>Total_Trans_Ct</th>\n",
       "      <th>Total_Ct_Chng_Q4_Q1</th>\n",
       "      <th>Avg_Utilization_Ratio</th>\n",
       "      <th>Customer_Age_period</th>\n",
       "      <th>Months_on_book_Period</th>\n",
       "      <th>TRAIN</th>\n",
       "    </tr>\n",
       "  </thead>\n",
       "  <tbody>\n",
       "    <tr>\n",
       "      <th>0</th>\n",
       "      <td>1</td>\n",
       "      <td>45</td>\n",
       "      <td>1</td>\n",
       "      <td>3</td>\n",
       "      <td>3</td>\n",
       "      <td>1</td>\n",
       "      <td>2</td>\n",
       "      <td>0</td>\n",
       "      <td>39</td>\n",
       "      <td>5</td>\n",
       "      <td>...</td>\n",
       "      <td>777</td>\n",
       "      <td>11914.0</td>\n",
       "      <td>1.335</td>\n",
       "      <td>1144</td>\n",
       "      <td>42</td>\n",
       "      <td>1.625</td>\n",
       "      <td>0.061</td>\n",
       "      <td>(44.0, 50.0]</td>\n",
       "      <td>(37.571, 43.714]</td>\n",
       "      <td>1</td>\n",
       "    </tr>\n",
       "    <tr>\n",
       "      <th>1</th>\n",
       "      <td>1</td>\n",
       "      <td>49</td>\n",
       "      <td>0</td>\n",
       "      <td>5</td>\n",
       "      <td>2</td>\n",
       "      <td>2</td>\n",
       "      <td>4</td>\n",
       "      <td>0</td>\n",
       "      <td>44</td>\n",
       "      <td>6</td>\n",
       "      <td>...</td>\n",
       "      <td>864</td>\n",
       "      <td>7392.0</td>\n",
       "      <td>1.541</td>\n",
       "      <td>1291</td>\n",
       "      <td>33</td>\n",
       "      <td>3.714</td>\n",
       "      <td>0.105</td>\n",
       "      <td>(44.0, 50.0]</td>\n",
       "      <td>(43.714, 49.857]</td>\n",
       "      <td>0</td>\n",
       "    </tr>\n",
       "    <tr>\n",
       "      <th>2</th>\n",
       "      <td>1</td>\n",
       "      <td>51</td>\n",
       "      <td>1</td>\n",
       "      <td>3</td>\n",
       "      <td>2</td>\n",
       "      <td>1</td>\n",
       "      <td>3</td>\n",
       "      <td>0</td>\n",
       "      <td>36</td>\n",
       "      <td>4</td>\n",
       "      <td>...</td>\n",
       "      <td>0</td>\n",
       "      <td>3418.0</td>\n",
       "      <td>2.594</td>\n",
       "      <td>1887</td>\n",
       "      <td>20</td>\n",
       "      <td>2.333</td>\n",
       "      <td>0.000</td>\n",
       "      <td>(50.0, 55.0]</td>\n",
       "      <td>(31.429, 37.571]</td>\n",
       "      <td>0</td>\n",
       "    </tr>\n",
       "    <tr>\n",
       "      <th>3</th>\n",
       "      <td>1</td>\n",
       "      <td>40</td>\n",
       "      <td>0</td>\n",
       "      <td>4</td>\n",
       "      <td>3</td>\n",
       "      <td>3</td>\n",
       "      <td>4</td>\n",
       "      <td>0</td>\n",
       "      <td>34</td>\n",
       "      <td>3</td>\n",
       "      <td>...</td>\n",
       "      <td>2517</td>\n",
       "      <td>796.0</td>\n",
       "      <td>1.405</td>\n",
       "      <td>1171</td>\n",
       "      <td>20</td>\n",
       "      <td>2.333</td>\n",
       "      <td>0.760</td>\n",
       "      <td>(38.0, 44.0]</td>\n",
       "      <td>(31.429, 37.571]</td>\n",
       "      <td>1</td>\n",
       "    </tr>\n",
       "    <tr>\n",
       "      <th>4</th>\n",
       "      <td>1</td>\n",
       "      <td>40</td>\n",
       "      <td>1</td>\n",
       "      <td>3</td>\n",
       "      <td>5</td>\n",
       "      <td>1</td>\n",
       "      <td>2</td>\n",
       "      <td>0</td>\n",
       "      <td>21</td>\n",
       "      <td>5</td>\n",
       "      <td>...</td>\n",
       "      <td>0</td>\n",
       "      <td>4716.0</td>\n",
       "      <td>2.175</td>\n",
       "      <td>816</td>\n",
       "      <td>28</td>\n",
       "      <td>2.500</td>\n",
       "      <td>0.000</td>\n",
       "      <td>(38.0, 44.0]</td>\n",
       "      <td>(19.143, 25.286]</td>\n",
       "      <td>0</td>\n",
       "    </tr>\n",
       "  </tbody>\n",
       "</table>\n",
       "<p>5 rows × 23 columns</p>\n",
       "</div>"
      ],
      "text/plain": [
       "   Attrition_Flag  Customer_Age  Gender  Dependent_count  Education_Level  \\\n",
       "0               1            45       1                3                3   \n",
       "1               1            49       0                5                2   \n",
       "2               1            51       1                3                2   \n",
       "3               1            40       0                4                3   \n",
       "4               1            40       1                3                5   \n",
       "\n",
       "   Marital_Status  Income_Category  Card_Category  Months_on_book  \\\n",
       "0               1                2              0              39   \n",
       "1               2                4              0              44   \n",
       "2               1                3              0              36   \n",
       "3               3                4              0              34   \n",
       "4               1                2              0              21   \n",
       "\n",
       "   Total_Relationship_Count  ...  Total_Revolving_Bal  Avg_Open_To_Buy  \\\n",
       "0                         5  ...                  777          11914.0   \n",
       "1                         6  ...                  864           7392.0   \n",
       "2                         4  ...                    0           3418.0   \n",
       "3                         3  ...                 2517            796.0   \n",
       "4                         5  ...                    0           4716.0   \n",
       "\n",
       "   Total_Amt_Chng_Q4_Q1  Total_Trans_Amt  Total_Trans_Ct  Total_Ct_Chng_Q4_Q1  \\\n",
       "0                 1.335             1144              42                1.625   \n",
       "1                 1.541             1291              33                3.714   \n",
       "2                 2.594             1887              20                2.333   \n",
       "3                 1.405             1171              20                2.333   \n",
       "4                 2.175              816              28                2.500   \n",
       "\n",
       "   Avg_Utilization_Ratio  Customer_Age_period  Months_on_book_Period  TRAIN  \n",
       "0                  0.061         (44.0, 50.0]       (37.571, 43.714]      1  \n",
       "1                  0.105         (44.0, 50.0]       (43.714, 49.857]      0  \n",
       "2                  0.000         (50.0, 55.0]       (31.429, 37.571]      0  \n",
       "3                  0.760         (38.0, 44.0]       (31.429, 37.571]      1  \n",
       "4                  0.000         (38.0, 44.0]       (19.143, 25.286]      0  \n",
       "\n",
       "[5 rows x 23 columns]"
      ]
     },
     "execution_count": 111,
     "metadata": {},
     "output_type": "execute_result"
    }
   ],
   "source": [
    "customer_data.head()"
   ]
  },
  {
   "cell_type": "code",
   "execution_count": 112,
   "id": "fd1c87ab",
   "metadata": {},
   "outputs": [
    {
     "data": {
      "text/html": [
       "<div>\n",
       "<style scoped>\n",
       "    .dataframe tbody tr th:only-of-type {\n",
       "        vertical-align: middle;\n",
       "    }\n",
       "\n",
       "    .dataframe tbody tr th {\n",
       "        vertical-align: top;\n",
       "    }\n",
       "\n",
       "    .dataframe thead th {\n",
       "        text-align: right;\n",
       "    }\n",
       "</style>\n",
       "<table border=\"1\" class=\"dataframe\">\n",
       "  <thead>\n",
       "    <tr style=\"text-align: right;\">\n",
       "      <th></th>\n",
       "      <th>TRAIN</th>\n",
       "      <th>Cant</th>\n",
       "      <th>Cant_Exito</th>\n",
       "      <th>Tasa_Exito</th>\n",
       "    </tr>\n",
       "  </thead>\n",
       "  <tbody>\n",
       "    <tr>\n",
       "      <th>0</th>\n",
       "      <td>0</td>\n",
       "      <td>2995</td>\n",
       "      <td>2509</td>\n",
       "      <td>0.837730</td>\n",
       "    </tr>\n",
       "    <tr>\n",
       "      <th>1</th>\n",
       "      <td>1</td>\n",
       "      <td>7132</td>\n",
       "      <td>5991</td>\n",
       "      <td>0.840017</td>\n",
       "    </tr>\n",
       "  </tbody>\n",
       "</table>\n",
       "</div>"
      ],
      "text/plain": [
       "   TRAIN  Cant  Cant_Exito  Tasa_Exito\n",
       "0      0  2995        2509    0.837730\n",
       "1      1  7132        5991    0.840017"
      ]
     },
     "execution_count": 112,
     "metadata": {},
     "output_type": "execute_result"
    }
   ],
   "source": [
    "# Cómo quedó la división??\n",
    "resumen = customer_data.groupby('TRAIN').agg(      \n",
    "    Cant = ('Attrition_Flag', 'count'),\n",
    "    Cant_Exito = ('Attrition_Flag', 'sum'),    \n",
    "    Tasa_Exito = ('Attrition_Flag', 'mean')\n",
    ").reset_index()\n",
    "resumen"
   ]
  },
  {
   "cell_type": "code",
   "execution_count": 113,
   "id": "c914a84b",
   "metadata": {},
   "outputs": [
    {
     "data": {
      "image/png": "[encoded data removed]",
      "text/plain": [
       "<Figure size 432x288 with 1 Axes>"
      ]
     },
     "metadata": {
      "needs_background": "light"
     },
     "output_type": "display_data"
    }
   ],
   "source": [
    "cantidad = len(customer_data['Attrition_Flag'])\n",
    "\n",
    "sns.countplot(data = customer_data,\n",
    "              x = \"TRAIN\")\n",
    "plt.xlabel('TRAIN / TEST')\n",
    "plt.ylabel('Cantidad de Clientes')\n",
    "plt.title('Distribución de clientes en TRAIN y TEST')\n",
    "ax = plt.gca()\n",
    "for p in ax.patches:\n",
    "    x_text = p.get_x() + p.get_width() / 2.0  # Calcula la posición x del texto\n",
    "    y_text = p.get_height()  # Toma la altura de la columna\n",
    "    ax.text(x_text, y_text, f'{str(round(int(y_text)/cantidad,2) * 100)}%', # Indica posición x e y, y texto a mostrar \n",
    "            ha = 'center', # Alineación horizontal \n",
    "            va = 'bottom',  # Alineación vertical\n",
    "            fontsize = 10, color = 'black', fontweight = 'bold')\n",
    "plt.show()"
   ]
  },
  {
   "cell_type": "code",
   "execution_count": 71,
   "id": "a58f5c4c",
   "metadata": {},
   "outputs": [
    {
     "data": {
      "text/plain": [
       "Text(0.5, 1.0, '¿Es la tasa de abandono igual en ambas subporciones de la muestra?')"
      ]
     },
     "execution_count": 71,
     "metadata": {},
     "output_type": "execute_result"
    },
    {
     "data": {
      "image/png": "[encoded data removed]",
      "text/plain": [
       "<Figure size 432x288 with 1 Axes>"
      ]
     },
     "metadata": {
      "needs_background": "light"
     },
     "output_type": "display_data"
    }
   ],
   "source": [
    "sns.barplot(data = customer_data,\n",
    "                x = 'TRAIN',\n",
    "                y = 'Attrition_Flag')\n",
    "plt.xlabel('TRAIN / TEST')\n",
    "plt.ylabel('Tasa de supervivencia')\n",
    "plt.title('¿Es la tasa de abandono igual en ambas subporciones de la muestra?')"
   ]
  },
  {
   "cell_type": "markdown",
   "id": "66714034",
   "metadata": {},
   "source": [
    "A partir del gráfico podemos concluir que la tasa de abandono de nuestros clientes es similar tanto en mi muestra separada para pruebas cómo en la otra parte de nuestra base."
   ]
  }
 ],
 "metadata": {
  "kernelspec": {
   "display_name": "Python 3 (ipykernel)",
   "language": "python",
   "name": "python3"
  },
  "language_info": {
   "codemirror_mode": {
    "name": "ipython",
    "version": 3
   },
   "file_extension": ".py",
   "mimetype": "text/x-python",
   "name": "python",
   "nbconvert_exporter": "python",
   "pygments_lexer": "ipython3",
   "version": "3.9.12"
  }
 },
 "nbformat": 4,
 "nbformat_minor": 5
}
